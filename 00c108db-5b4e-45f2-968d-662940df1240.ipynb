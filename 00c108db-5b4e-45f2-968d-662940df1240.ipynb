{
 "cells": [
  {
   "cell_type": "markdown",
   "metadata": {},
   "source": [
    "<div class=\"alert alert-block\">\n",
    "Проектная работа\n",
    "                             \n",
    "    \n",
    "ПРОВЕРКА ГИПОТЕЗ (А/В -тест)\n",
    "\n",
    "Объект исследования - интернет-магазин. \n",
    "Цель проекта -проверить гипотезы, которые могут привести к увеличению выручки, раставив приоритетность гипотез, запустить A/B-тест и проанализировать результаты \n",
    "\n",
    "Описание данных: В файле /datasets/hypothesis.csv 9 гипотез по увеличению выручки интернет-магазина с указанными параметрами Reach, Impact, Confidence, Effort.\n",
    "\n",
    "Данные для первой части\n",
    "Файл /datasets/hypothesis.csv. \n",
    "\n",
    "•\tHypothesis — краткое описание гипотезы;\n",
    "•\tReach — охват пользователей по 10-балльной шкале;\n",
    "•\tImpact — влияние на пользователей по 10-балльной шкале;\n",
    "•\tConfidence — уверенность в гипотезе по 10-балльной шкале;\n",
    "•\tEfforts — затраты ресурсов на проверку гипотезы по 10-балльной шкале. Чем больше значение Efforts, тем дороже проверка гипотезы.\n",
    "\n",
    "\n",
    "Данные для второй части\n",
    "Файл /datasets/orders.csv. Скачать датасет\n",
    "•\ttransactionId — идентификатор заказа;\n",
    "•\tvisitorId — идентификатор пользователя, совершившего заказ;\n",
    "•\tdate — дата, когда был совершён заказ;\n",
    "•\trevenue — выручка заказа;\n",
    "•\tgroup — группа A/B-теста, в которую попал заказ.\n",
    "Файл /datasets/visitors.csv. Скачать датасет\n",
    "•\tdate — дата;\n",
    "•\tgroup — группа A/B-теста;\n",
    "•\tvisitors — количество пользователей в указанную дату в указанной группе A/B-теста\n",
    "</div>"
   ]
  },
  {
   "cell_type": "code",
   "execution_count": 4,
   "metadata": {},
   "outputs": [],
   "source": [
    "import pandas as pd\n",
    "import scipy.stats as stats\n",
    "import datetime as dt\n",
    "import numpy as np\n",
    "from pandas.plotting import register_matplotlib_converters\n",
    "import warnings\n",
    "import matplotlib.pyplot as plt"
   ]
  },
  {
   "cell_type": "markdown",
   "metadata": {},
   "source": [
    "Часть 1. Приоритизация гипотез"
   ]
  },
  {
   "cell_type": "code",
   "execution_count": 5,
   "metadata": {},
   "outputs": [],
   "source": [
    "hypothes = pd.read_csv('/datasets/hypothesis.csv')"
   ]
  },
  {
   "cell_type": "code",
   "execution_count": 6,
   "metadata": {},
   "outputs": [
    {
     "name": "stdout",
     "output_type": "stream",
     "text": [
      "<class 'pandas.core.frame.DataFrame'>\n",
      "RangeIndex: 9 entries, 0 to 8\n",
      "Data columns (total 5 columns):\n",
      " #   Column      Non-Null Count  Dtype \n",
      "---  ------      --------------  ----- \n",
      " 0   Hypothesis  9 non-null      object\n",
      " 1   Reach       9 non-null      int64 \n",
      " 2   Impact      9 non-null      int64 \n",
      " 3   Confidence  9 non-null      int64 \n",
      " 4   Efforts     9 non-null      int64 \n",
      "dtypes: int64(4), object(1)\n",
      "memory usage: 488.0+ bytes\n"
     ]
    }
   ],
   "source": [
    "hypothes.info()"
   ]
  },
  {
   "cell_type": "markdown",
   "metadata": {},
   "source": [
    "в датасете 9 гипотез, рассмотрим подробнее сами гипотезы"
   ]
  },
  {
   "cell_type": "code",
   "execution_count": 7,
   "metadata": {},
   "outputs": [
    {
     "data": {
      "text/html": [
       "<div>\n",
       "<style scoped>\n",
       "    .dataframe tbody tr th:only-of-type {\n",
       "        vertical-align: middle;\n",
       "    }\n",
       "\n",
       "    .dataframe tbody tr th {\n",
       "        vertical-align: top;\n",
       "    }\n",
       "\n",
       "    .dataframe thead th {\n",
       "        text-align: right;\n",
       "    }\n",
       "</style>\n",
       "<table border=\"1\" class=\"dataframe\">\n",
       "  <thead>\n",
       "    <tr style=\"text-align: right;\">\n",
       "      <th></th>\n",
       "      <th>Hypothesis</th>\n",
       "      <th>Reach</th>\n",
       "      <th>Impact</th>\n",
       "      <th>Confidence</th>\n",
       "      <th>Efforts</th>\n",
       "    </tr>\n",
       "  </thead>\n",
       "  <tbody>\n",
       "    <tr>\n",
       "      <th>0</th>\n",
       "      <td>Добавить два новых канала привлечения трафика,...</td>\n",
       "      <td>3</td>\n",
       "      <td>10</td>\n",
       "      <td>8</td>\n",
       "      <td>6</td>\n",
       "    </tr>\n",
       "    <tr>\n",
       "      <th>1</th>\n",
       "      <td>Запустить собственную службу доставки, что сок...</td>\n",
       "      <td>2</td>\n",
       "      <td>5</td>\n",
       "      <td>4</td>\n",
       "      <td>10</td>\n",
       "    </tr>\n",
       "    <tr>\n",
       "      <th>2</th>\n",
       "      <td>Добавить блоки рекомендаций товаров на сайт ин...</td>\n",
       "      <td>8</td>\n",
       "      <td>3</td>\n",
       "      <td>7</td>\n",
       "      <td>3</td>\n",
       "    </tr>\n",
       "    <tr>\n",
       "      <th>3</th>\n",
       "      <td>Изменить структура категорий, что увеличит кон...</td>\n",
       "      <td>8</td>\n",
       "      <td>3</td>\n",
       "      <td>3</td>\n",
       "      <td>8</td>\n",
       "    </tr>\n",
       "    <tr>\n",
       "      <th>4</th>\n",
       "      <td>Изменить цвет фона главной страницы, чтобы уве...</td>\n",
       "      <td>3</td>\n",
       "      <td>1</td>\n",
       "      <td>1</td>\n",
       "      <td>1</td>\n",
       "    </tr>\n",
       "    <tr>\n",
       "      <th>5</th>\n",
       "      <td>Добавить страницу отзывов клиентов о магазине,...</td>\n",
       "      <td>3</td>\n",
       "      <td>2</td>\n",
       "      <td>2</td>\n",
       "      <td>3</td>\n",
       "    </tr>\n",
       "    <tr>\n",
       "      <th>6</th>\n",
       "      <td>Показать на главной странице баннеры с актуаль...</td>\n",
       "      <td>5</td>\n",
       "      <td>3</td>\n",
       "      <td>8</td>\n",
       "      <td>3</td>\n",
       "    </tr>\n",
       "    <tr>\n",
       "      <th>7</th>\n",
       "      <td>Добавить форму подписки на все основные страни...</td>\n",
       "      <td>10</td>\n",
       "      <td>7</td>\n",
       "      <td>8</td>\n",
       "      <td>5</td>\n",
       "    </tr>\n",
       "    <tr>\n",
       "      <th>8</th>\n",
       "      <td>Запустить акцию, дающую скидку на товар в день...</td>\n",
       "      <td>1</td>\n",
       "      <td>9</td>\n",
       "      <td>9</td>\n",
       "      <td>5</td>\n",
       "    </tr>\n",
       "  </tbody>\n",
       "</table>\n",
       "</div>"
      ],
      "text/plain": [
       "                                          Hypothesis  Reach  Impact  \\\n",
       "0  Добавить два новых канала привлечения трафика,...      3      10   \n",
       "1  Запустить собственную службу доставки, что сок...      2       5   \n",
       "2  Добавить блоки рекомендаций товаров на сайт ин...      8       3   \n",
       "3  Изменить структура категорий, что увеличит кон...      8       3   \n",
       "4  Изменить цвет фона главной страницы, чтобы уве...      3       1   \n",
       "5  Добавить страницу отзывов клиентов о магазине,...      3       2   \n",
       "6  Показать на главной странице баннеры с актуаль...      5       3   \n",
       "7  Добавить форму подписки на все основные страни...     10       7   \n",
       "8  Запустить акцию, дающую скидку на товар в день...      1       9   \n",
       "\n",
       "   Confidence  Efforts  \n",
       "0           8        6  \n",
       "1           4       10  \n",
       "2           7        3  \n",
       "3           3        8  \n",
       "4           1        1  \n",
       "5           2        3  \n",
       "6           8        3  \n",
       "7           8        5  \n",
       "8           9        5  "
      ]
     },
     "execution_count": 7,
     "metadata": {},
     "output_type": "execute_result"
    }
   ],
   "source": [
    "hypothes.head(9)"
   ]
  },
  {
   "cell_type": "markdown",
   "metadata": {},
   "source": [
    "дубликатов нет, данные значения целые,стоит привести названия столбцов к нижнему регистру"
   ]
  },
  {
   "cell_type": "code",
   "execution_count": 8,
   "metadata": {},
   "outputs": [
    {
     "data": {
      "text/html": [
       "<div>\n",
       "<style scoped>\n",
       "    .dataframe tbody tr th:only-of-type {\n",
       "        vertical-align: middle;\n",
       "    }\n",
       "\n",
       "    .dataframe tbody tr th {\n",
       "        vertical-align: top;\n",
       "    }\n",
       "\n",
       "    .dataframe thead th {\n",
       "        text-align: right;\n",
       "    }\n",
       "</style>\n",
       "<table border=\"1\" class=\"dataframe\">\n",
       "  <thead>\n",
       "    <tr style=\"text-align: right;\">\n",
       "      <th></th>\n",
       "      <th>hypothesis</th>\n",
       "      <th>reach</th>\n",
       "      <th>impact</th>\n",
       "      <th>confidence</th>\n",
       "      <th>efforts</th>\n",
       "    </tr>\n",
       "  </thead>\n",
       "  <tbody>\n",
       "    <tr>\n",
       "      <th>0</th>\n",
       "      <td>Добавить два новых канала привлечения трафика,...</td>\n",
       "      <td>3</td>\n",
       "      <td>10</td>\n",
       "      <td>8</td>\n",
       "      <td>6</td>\n",
       "    </tr>\n",
       "    <tr>\n",
       "      <th>1</th>\n",
       "      <td>Запустить собственную службу доставки, что сок...</td>\n",
       "      <td>2</td>\n",
       "      <td>5</td>\n",
       "      <td>4</td>\n",
       "      <td>10</td>\n",
       "    </tr>\n",
       "    <tr>\n",
       "      <th>2</th>\n",
       "      <td>Добавить блоки рекомендаций товаров на сайт ин...</td>\n",
       "      <td>8</td>\n",
       "      <td>3</td>\n",
       "      <td>7</td>\n",
       "      <td>3</td>\n",
       "    </tr>\n",
       "    <tr>\n",
       "      <th>3</th>\n",
       "      <td>Изменить структура категорий, что увеличит кон...</td>\n",
       "      <td>8</td>\n",
       "      <td>3</td>\n",
       "      <td>3</td>\n",
       "      <td>8</td>\n",
       "    </tr>\n",
       "    <tr>\n",
       "      <th>4</th>\n",
       "      <td>Изменить цвет фона главной страницы, чтобы уве...</td>\n",
       "      <td>3</td>\n",
       "      <td>1</td>\n",
       "      <td>1</td>\n",
       "      <td>1</td>\n",
       "    </tr>\n",
       "    <tr>\n",
       "      <th>5</th>\n",
       "      <td>Добавить страницу отзывов клиентов о магазине,...</td>\n",
       "      <td>3</td>\n",
       "      <td>2</td>\n",
       "      <td>2</td>\n",
       "      <td>3</td>\n",
       "    </tr>\n",
       "    <tr>\n",
       "      <th>6</th>\n",
       "      <td>Показать на главной странице баннеры с актуаль...</td>\n",
       "      <td>5</td>\n",
       "      <td>3</td>\n",
       "      <td>8</td>\n",
       "      <td>3</td>\n",
       "    </tr>\n",
       "    <tr>\n",
       "      <th>7</th>\n",
       "      <td>Добавить форму подписки на все основные страни...</td>\n",
       "      <td>10</td>\n",
       "      <td>7</td>\n",
       "      <td>8</td>\n",
       "      <td>5</td>\n",
       "    </tr>\n",
       "    <tr>\n",
       "      <th>8</th>\n",
       "      <td>Запустить акцию, дающую скидку на товар в день...</td>\n",
       "      <td>1</td>\n",
       "      <td>9</td>\n",
       "      <td>9</td>\n",
       "      <td>5</td>\n",
       "    </tr>\n",
       "  </tbody>\n",
       "</table>\n",
       "</div>"
      ],
      "text/plain": [
       "                                          hypothesis  reach  impact  \\\n",
       "0  Добавить два новых канала привлечения трафика,...      3      10   \n",
       "1  Запустить собственную службу доставки, что сок...      2       5   \n",
       "2  Добавить блоки рекомендаций товаров на сайт ин...      8       3   \n",
       "3  Изменить структура категорий, что увеличит кон...      8       3   \n",
       "4  Изменить цвет фона главной страницы, чтобы уве...      3       1   \n",
       "5  Добавить страницу отзывов клиентов о магазине,...      3       2   \n",
       "6  Показать на главной странице баннеры с актуаль...      5       3   \n",
       "7  Добавить форму подписки на все основные страни...     10       7   \n",
       "8  Запустить акцию, дающую скидку на товар в день...      1       9   \n",
       "\n",
       "   confidence  efforts  \n",
       "0           8        6  \n",
       "1           4       10  \n",
       "2           7        3  \n",
       "3           3        8  \n",
       "4           1        1  \n",
       "5           2        3  \n",
       "6           8        3  \n",
       "7           8        5  \n",
       "8           9        5  "
      ]
     },
     "execution_count": 8,
     "metadata": {},
     "output_type": "execute_result"
    }
   ],
   "source": [
    "hypothes.columns= map(str.lower,hypothes.columns)\n",
    "hypothes.head(9)"
   ]
  },
  {
   "cell_type": "markdown",
   "metadata": {},
   "source": [
    "для приоритизации гипотез отсортируем их по убыванию приоритета с помощью фреймворк ICE"
   ]
  },
  {
   "cell_type": "code",
   "execution_count": 9,
   "metadata": {},
   "outputs": [
    {
     "name": "stdout",
     "output_type": "stream",
     "text": [
      "                                          hypothesis        ICE\n",
      "8  Запустить акцию, дающую скидку на товар в день...  16.200000\n",
      "0  Добавить два новых канала привлечения трафика,...  13.333333\n",
      "7  Добавить форму подписки на все основные страни...  11.200000\n",
      "6  Показать на главной странице баннеры с актуаль...   8.000000\n",
      "2  Добавить блоки рекомендаций товаров на сайт ин...   7.000000\n",
      "1  Запустить собственную службу доставки, что сок...   2.000000\n",
      "5  Добавить страницу отзывов клиентов о магазине,...   1.333333\n",
      "3  Изменить структура категорий, что увеличит кон...   1.125000\n",
      "4  Изменить цвет фона главной страницы, чтобы уве...   1.000000\n"
     ]
    }
   ],
   "source": [
    "hypothes['ICE']= (hypothes['impact']*hypothes['confidence']/hypothes['efforts'])\n",
    "print(hypothes[['hypothesis','ICE']].sort_values(by='ICE', ascending=False))\n",
    "pd.options.display.max_colwidth = 120"
   ]
  },
  {
   "cell_type": "markdown",
   "metadata": {},
   "source": [
    "Наиболее перспективные гипотезы : 8,0,7\n",
    "8 Запустить акцию, дающую скидку на товар в день рождения- такая акция несомненно привлекает всех без исключения пользователей   \n",
    "0 Добавить два новых канала привлечения трафика, что позволит привлекать на 30% больше пользователей - это похоже на практические шаги к успеху  \n",
    "7 Добавить форму подписки на все основные страницы, чтобы собрать базу клиентов для email-рассылок - в предидущих проектах такая рассылка помогала увеличивать посещаемость сайтов и конверсию пользователей  \n",
    "6 Показать на главной странице баннеры с актуальными акциями и распродажами, чтобы увеличить конверсию- распродажи всегда интересны "
   ]
  },
  {
   "cell_type": "markdown",
   "metadata": {},
   "source": [
    "Применим фреймворк RICE для приоритизации гипотез отсортируйте их по убыванию приоритета"
   ]
  },
  {
   "cell_type": "code",
   "execution_count": 10,
   "metadata": {},
   "outputs": [
    {
     "name": "stdout",
     "output_type": "stream",
     "text": [
      "                                                                                                     hypothesis  \\\n",
      "7              Добавить форму подписки на все основные страницы, чтобы собрать базу клиентов для email-рассылок   \n",
      "2  Добавить блоки рекомендаций товаров на сайт интернет магазина, чтобы повысить конверсию и средний чек заказа   \n",
      "0            Добавить два новых канала привлечения трафика, что позволит привлекать на 30% больше пользователей   \n",
      "6          Показать на главной странице баннеры с актуальными акциями и распродажами, чтобы увеличить конверсию   \n",
      "8                                                       Запустить акцию, дающую скидку на товар в день рождения   \n",
      "3           Изменить структура категорий, что увеличит конверсию, т.к. пользователи быстрее найдут нужный товар   \n",
      "1                                     Запустить собственную службу доставки, что сократит срок доставки заказов   \n",
      "5                      Добавить страницу отзывов клиентов о магазине, что позволит увеличить количество заказов   \n",
      "4                              Изменить цвет фона главной страницы, чтобы увеличить вовлеченность пользователей   \n",
      "\n",
      "    RICE  \n",
      "7  112.0  \n",
      "2   56.0  \n",
      "0   40.0  \n",
      "6   40.0  \n",
      "8   16.2  \n",
      "3    9.0  \n",
      "1    4.0  \n",
      "5    4.0  \n",
      "4    3.0  \n"
     ]
    }
   ],
   "source": [
    "hypothes['RICE']=(hypothes['reach']*hypothes['impact']*hypothes['confidence'])/hypothes['efforts']\n",
    "print(hypothes [['hypothesis','RICE']].sort_values(by='RICE', ascending=False))\n",
    "pd.options.display.max_colwidth = 120"
   ]
  },
  {
   "cell_type": "markdown",
   "metadata": {},
   "source": [
    "фреймворк RICE- показал немного дугие результаты, приоритетными гипотезами стали: 7,2,0\n",
    "гипотезы 7 и 0 остались так же в приоритете, так произошло потому,что в данном методе учитывается Reach равный 9"
   ]
  },
  {
   "cell_type": "markdown",
   "metadata": {},
   "source": [
    "Часть 2. Анализ A/B-теста"
   ]
  },
  {
   "cell_type": "code",
   "execution_count": 11,
   "metadata": {},
   "outputs": [
    {
     "name": "stdout",
     "output_type": "stream",
     "text": [
      "<class 'pandas.core.frame.DataFrame'>\n",
      "RangeIndex: 1197 entries, 0 to 1196\n",
      "Data columns (total 5 columns):\n",
      " #   Column         Non-Null Count  Dtype \n",
      "---  ------         --------------  ----- \n",
      " 0   transactionId  1197 non-null   int64 \n",
      " 1   visitorId      1197 non-null   int64 \n",
      " 2   date           1197 non-null   object\n",
      " 3   revenue        1197 non-null   int64 \n",
      " 4   group          1197 non-null   object\n",
      "dtypes: int64(3), object(2)\n",
      "memory usage: 46.9+ KB\n"
     ]
    }
   ],
   "source": [
    "orders = pd.read_csv('/datasets/orders.csv') \n",
    "orders.info()"
   ]
  },
  {
   "cell_type": "code",
   "execution_count": 12,
   "metadata": {},
   "outputs": [
    {
     "data": {
      "text/html": [
       "<div>\n",
       "<style scoped>\n",
       "    .dataframe tbody tr th:only-of-type {\n",
       "        vertical-align: middle;\n",
       "    }\n",
       "\n",
       "    .dataframe tbody tr th {\n",
       "        vertical-align: top;\n",
       "    }\n",
       "\n",
       "    .dataframe thead th {\n",
       "        text-align: right;\n",
       "    }\n",
       "</style>\n",
       "<table border=\"1\" class=\"dataframe\">\n",
       "  <thead>\n",
       "    <tr style=\"text-align: right;\">\n",
       "      <th></th>\n",
       "      <th>transactionId</th>\n",
       "      <th>visitorId</th>\n",
       "      <th>date</th>\n",
       "      <th>revenue</th>\n",
       "      <th>group</th>\n",
       "    </tr>\n",
       "  </thead>\n",
       "  <tbody>\n",
       "    <tr>\n",
       "      <th>0</th>\n",
       "      <td>3667963787</td>\n",
       "      <td>3312258926</td>\n",
       "      <td>2019-08-15</td>\n",
       "      <td>1650</td>\n",
       "      <td>B</td>\n",
       "    </tr>\n",
       "    <tr>\n",
       "      <th>1</th>\n",
       "      <td>2804400009</td>\n",
       "      <td>3642806036</td>\n",
       "      <td>2019-08-15</td>\n",
       "      <td>730</td>\n",
       "      <td>B</td>\n",
       "    </tr>\n",
       "    <tr>\n",
       "      <th>2</th>\n",
       "      <td>2961555356</td>\n",
       "      <td>4069496402</td>\n",
       "      <td>2019-08-15</td>\n",
       "      <td>400</td>\n",
       "      <td>A</td>\n",
       "    </tr>\n",
       "    <tr>\n",
       "      <th>3</th>\n",
       "      <td>3797467345</td>\n",
       "      <td>1196621759</td>\n",
       "      <td>2019-08-15</td>\n",
       "      <td>9759</td>\n",
       "      <td>B</td>\n",
       "    </tr>\n",
       "    <tr>\n",
       "      <th>4</th>\n",
       "      <td>2282983706</td>\n",
       "      <td>2322279887</td>\n",
       "      <td>2019-08-15</td>\n",
       "      <td>2308</td>\n",
       "      <td>B</td>\n",
       "    </tr>\n",
       "  </tbody>\n",
       "</table>\n",
       "</div>"
      ],
      "text/plain": [
       "   transactionId   visitorId        date  revenue group\n",
       "0     3667963787  3312258926  2019-08-15     1650     B\n",
       "1     2804400009  3642806036  2019-08-15      730     B\n",
       "2     2961555356  4069496402  2019-08-15      400     A\n",
       "3     3797467345  1196621759  2019-08-15     9759     B\n",
       "4     2282983706  2322279887  2019-08-15     2308     B"
      ]
     },
     "execution_count": 12,
     "metadata": {},
     "output_type": "execute_result"
    }
   ],
   "source": [
    "orders.head()"
   ]
  },
  {
   "cell_type": "markdown",
   "metadata": {},
   "source": [
    "приведем данные из столбца date к типу дата,переименуем столбцы и проверим существуют ли дубликаты  "
   ]
  },
  {
   "cell_type": "code",
   "execution_count": 13,
   "metadata": {},
   "outputs": [
    {
     "name": "stdout",
     "output_type": "stream",
     "text": [
      "Количество дубликатов: 0\n"
     ]
    }
   ],
   "source": [
    "orders.columns = ['transaction_id', 'visitor_id', 'date', 'revenue', 'group']\n",
    "orders['date'] = orders['date'].map(\n",
    "    lambda x: dt.datetime.strptime(x, '%Y-%m-%d')\n",
    ")\n",
    "print('Количество дубликатов:',orders.duplicated().sum())"
   ]
  },
  {
   "cell_type": "code",
   "execution_count": 14,
   "metadata": {},
   "outputs": [
    {
     "name": "stdout",
     "output_type": "stream",
     "text": [
      "<class 'pandas.core.frame.DataFrame'>\n",
      "RangeIndex: 62 entries, 0 to 61\n",
      "Data columns (total 3 columns):\n",
      " #   Column    Non-Null Count  Dtype \n",
      "---  ------    --------------  ----- \n",
      " 0   date      62 non-null     object\n",
      " 1   group     62 non-null     object\n",
      " 2   visitors  62 non-null     int64 \n",
      "dtypes: int64(1), object(2)\n",
      "memory usage: 1.6+ KB\n"
     ]
    }
   ],
   "source": [
    "visitors = pd.read_csv('/datasets/visitors.csv') \n",
    "visitors.info()"
   ]
  },
  {
   "cell_type": "code",
   "execution_count": 15,
   "metadata": {},
   "outputs": [
    {
     "data": {
      "text/html": [
       "<div>\n",
       "<style scoped>\n",
       "    .dataframe tbody tr th:only-of-type {\n",
       "        vertical-align: middle;\n",
       "    }\n",
       "\n",
       "    .dataframe tbody tr th {\n",
       "        vertical-align: top;\n",
       "    }\n",
       "\n",
       "    .dataframe thead th {\n",
       "        text-align: right;\n",
       "    }\n",
       "</style>\n",
       "<table border=\"1\" class=\"dataframe\">\n",
       "  <thead>\n",
       "    <tr style=\"text-align: right;\">\n",
       "      <th></th>\n",
       "      <th>date</th>\n",
       "      <th>group</th>\n",
       "      <th>visitors</th>\n",
       "    </tr>\n",
       "  </thead>\n",
       "  <tbody>\n",
       "    <tr>\n",
       "      <th>0</th>\n",
       "      <td>2019-08-01</td>\n",
       "      <td>A</td>\n",
       "      <td>719</td>\n",
       "    </tr>\n",
       "    <tr>\n",
       "      <th>1</th>\n",
       "      <td>2019-08-02</td>\n",
       "      <td>A</td>\n",
       "      <td>619</td>\n",
       "    </tr>\n",
       "    <tr>\n",
       "      <th>2</th>\n",
       "      <td>2019-08-03</td>\n",
       "      <td>A</td>\n",
       "      <td>507</td>\n",
       "    </tr>\n",
       "    <tr>\n",
       "      <th>3</th>\n",
       "      <td>2019-08-04</td>\n",
       "      <td>A</td>\n",
       "      <td>717</td>\n",
       "    </tr>\n",
       "    <tr>\n",
       "      <th>4</th>\n",
       "      <td>2019-08-05</td>\n",
       "      <td>A</td>\n",
       "      <td>756</td>\n",
       "    </tr>\n",
       "  </tbody>\n",
       "</table>\n",
       "</div>"
      ],
      "text/plain": [
       "         date group  visitors\n",
       "0  2019-08-01     A       719\n",
       "1  2019-08-02     A       619\n",
       "2  2019-08-03     A       507\n",
       "3  2019-08-04     A       717\n",
       "4  2019-08-05     A       756"
      ]
     },
     "execution_count": 15,
     "metadata": {},
     "output_type": "execute_result"
    }
   ],
   "source": [
    "visitors.head()"
   ]
  },
  {
   "cell_type": "markdown",
   "metadata": {},
   "source": [
    "приведем данные из столбца date к типу дата, проверим существуют ли дубликаты  "
   ]
  },
  {
   "cell_type": "code",
   "execution_count": 16,
   "metadata": {},
   "outputs": [
    {
     "name": "stdout",
     "output_type": "stream",
     "text": [
      "Количество дубликатов: 0\n"
     ]
    }
   ],
   "source": [
    "visitors['date'] = visitors['date'].map(\n",
    "    lambda x: dt.datetime.strptime(x, '%Y-%m-%d')\n",
    ")\n",
    "print('Количество дубликатов:',visitors.duplicated().sum())"
   ]
  },
  {
   "cell_type": "code",
   "execution_count": 17,
   "metadata": {},
   "outputs": [
    {
     "name": "stdout",
     "output_type": "stream",
     "text": [
      "<class 'pandas.core.frame.DataFrame'>\n",
      "RangeIndex: 62 entries, 0 to 61\n",
      "Data columns (total 3 columns):\n",
      " #   Column    Non-Null Count  Dtype         \n",
      "---  ------    --------------  -----         \n",
      " 0   date      62 non-null     datetime64[ns]\n",
      " 1   group     62 non-null     object        \n",
      " 2   visitors  62 non-null     int64         \n",
      "dtypes: datetime64[ns](1), int64(1), object(1)\n",
      "memory usage: 1.6+ KB\n"
     ]
    }
   ],
   "source": [
    "visitors.info()"
   ]
  },
  {
   "cell_type": "markdown",
   "metadata": {},
   "source": [
    "Проведем тестирование."
   ]
  },
  {
   "cell_type": "markdown",
   "metadata": {},
   "source": [
    "Проверим, корректность разделения пользователей на группы"
   ]
  },
  {
   "cell_type": "code",
   "execution_count": 18,
   "metadata": {},
   "outputs": [
    {
     "data": {
      "text/plain": [
       "58"
      ]
     },
     "execution_count": 18,
     "metadata": {},
     "output_type": "execute_result"
    }
   ],
   "source": [
    "group_a=orders.query('group == \"A\"') \n",
    "group_b=orders.query('group == \"B\"') \n",
    "  \n",
    "# получаем id пользователей, попавших в обе группы \n",
    "group_intersections=list(np.intersect1d(group_a['visitor_id'], group_b['visitor_id']))\n",
    "len(group_intersections)"
   ]
  },
  {
   "cell_type": "markdown",
   "metadata": {},
   "source": [
    "58 пользователей попали в обе гуппы, необходимо удалить такие даные "
   ]
  },
  {
   "cell_type": "code",
   "execution_count": 19,
   "metadata": {},
   "outputs": [],
   "source": [
    "# создаем массив уникальных пар значений дат и групп теста\n",
    "datesGroups = orders[['date','group']].drop_duplicates() "
   ]
  },
  {
   "cell_type": "markdown",
   "metadata": {},
   "source": [
    "перезапишем orders"
   ]
  },
  {
   "cell_type": "code",
   "execution_count": 20,
   "metadata": {},
   "outputs": [],
   "source": [
    "orders = orders.query('visitor_id not in @group_intersections')"
   ]
  },
  {
   "cell_type": "code",
   "execution_count": 21,
   "metadata": {},
   "outputs": [
    {
     "data": {
      "text/plain": [
       "0"
      ]
     },
     "execution_count": 21,
     "metadata": {},
     "output_type": "execute_result"
    }
   ],
   "source": [
    "group_a=orders.query('group == \"A\"') \n",
    "group_b=orders.query('group == \"B\"') \n",
    "  \n",
    "# получаем id пользователей, попавших в обе группы \n",
    "group_intersections=list(np.intersect1d(group_a['visitor_id'], group_b['visitor_id']))\n",
    "len(group_intersections)"
   ]
  },
  {
   "cell_type": "markdown",
   "metadata": {},
   "source": [
    "Теперь данных попадающих в обе группы нет, можно продолжить наше исследование"
   ]
  },
  {
   "cell_type": "code",
   "execution_count": 22,
   "metadata": {},
   "outputs": [],
   "source": [
    "ordersAggregated = datesGroups.apply(lambda x: orders[np.logical_and(orders['date'] <= x['date'], orders['group'] == x['group'])]\\\n",
    ".agg({'date' : 'max', 'group' : 'max', 'transaction_id' : 'nunique', 'visitor_id' : 'nunique', 'revenue' : 'sum'}), axis=1).sort_values(by=['date','group'])"
   ]
  },
  {
   "cell_type": "code",
   "execution_count": 23,
   "metadata": {},
   "outputs": [],
   "source": [
    "visitorsAggregated = datesGroups.apply(lambda x: visitors[np.logical_and(visitors['date'] <= x['date'], visitors['group'] == x['group'])].agg({'date' : 'max', 'group' : 'max', 'visitors' : 'sum'}), axis=1).sort_values(by=['date','group']) "
   ]
  },
  {
   "cell_type": "code",
   "execution_count": 24,
   "metadata": {},
   "outputs": [
    {
     "data": {
      "text/html": [
       "<div>\n",
       "<style scoped>\n",
       "    .dataframe tbody tr th:only-of-type {\n",
       "        vertical-align: middle;\n",
       "    }\n",
       "\n",
       "    .dataframe tbody tr th {\n",
       "        vertical-align: top;\n",
       "    }\n",
       "\n",
       "    .dataframe thead th {\n",
       "        text-align: right;\n",
       "    }\n",
       "</style>\n",
       "<table border=\"1\" class=\"dataframe\">\n",
       "  <thead>\n",
       "    <tr style=\"text-align: right;\">\n",
       "      <th></th>\n",
       "      <th>date</th>\n",
       "      <th>group</th>\n",
       "      <th>orders</th>\n",
       "      <th>buyers</th>\n",
       "      <th>revenue</th>\n",
       "      <th>visitors</th>\n",
       "    </tr>\n",
       "  </thead>\n",
       "  <tbody>\n",
       "    <tr>\n",
       "      <th>0</th>\n",
       "      <td>2019-08-01</td>\n",
       "      <td>A</td>\n",
       "      <td>23</td>\n",
       "      <td>19</td>\n",
       "      <td>142779</td>\n",
       "      <td>719</td>\n",
       "    </tr>\n",
       "    <tr>\n",
       "      <th>1</th>\n",
       "      <td>2019-08-01</td>\n",
       "      <td>B</td>\n",
       "      <td>17</td>\n",
       "      <td>17</td>\n",
       "      <td>59758</td>\n",
       "      <td>713</td>\n",
       "    </tr>\n",
       "    <tr>\n",
       "      <th>2</th>\n",
       "      <td>2019-08-02</td>\n",
       "      <td>A</td>\n",
       "      <td>42</td>\n",
       "      <td>36</td>\n",
       "      <td>234381</td>\n",
       "      <td>1338</td>\n",
       "    </tr>\n",
       "    <tr>\n",
       "      <th>3</th>\n",
       "      <td>2019-08-02</td>\n",
       "      <td>B</td>\n",
       "      <td>40</td>\n",
       "      <td>39</td>\n",
       "      <td>221801</td>\n",
       "      <td>1294</td>\n",
       "    </tr>\n",
       "    <tr>\n",
       "      <th>4</th>\n",
       "      <td>2019-08-03</td>\n",
       "      <td>A</td>\n",
       "      <td>66</td>\n",
       "      <td>60</td>\n",
       "      <td>346854</td>\n",
       "      <td>1845</td>\n",
       "    </tr>\n",
       "  </tbody>\n",
       "</table>\n",
       "</div>"
      ],
      "text/plain": [
       "        date group  orders  buyers  revenue  visitors\n",
       "0 2019-08-01     A      23      19   142779       719\n",
       "1 2019-08-01     B      17      17    59758       713\n",
       "2 2019-08-02     A      42      36   234381      1338\n",
       "3 2019-08-02     B      40      39   221801      1294\n",
       "4 2019-08-03     A      66      60   346854      1845"
      ]
     },
     "execution_count": 24,
     "metadata": {},
     "output_type": "execute_result"
    }
   ],
   "source": [
    "cumulativeData = ordersAggregated.merge(visitorsAggregated, left_on=['date', 'group'], right_on=['date', 'group'])\n",
    "cumulativeData.columns = ['date', 'group', 'orders', 'buyers', 'revenue', 'visitors']\n",
    "\n",
    "cumulativeData.head(5)"
   ]
  },
  {
   "cell_type": "markdown",
   "metadata": {},
   "source": [
    "Создадим переменные cumulativeRevenueA и cumulativeRevenueB и сохраним данные о датах, выручке и числе заказов в группах А и В.\n",
    "Построим графики кумулятивной выручки по дням и по гуппам."
   ]
  },
  {
   "cell_type": "code",
   "execution_count": 25,
   "metadata": {},
   "outputs": [],
   "source": [
    "# датафрейм с кумулятивным количеством заказов и кумулятивной выручкой по дням в группе А\n",
    "cumulativeRevenueA = cumulativeData[cumulativeData['group']=='A'][['date','revenue', 'orders']]"
   ]
  },
  {
   "cell_type": "code",
   "execution_count": 26,
   "metadata": {},
   "outputs": [],
   "source": [
    "# датафрейм с кумулятивным количеством заказов и кумулятивной выручкой по дням в группе B\n",
    "cumulativeRevenueB = cumulativeData[cumulativeData['group']=='B'][['date','revenue', 'orders']]"
   ]
  },
  {
   "cell_type": "code",
   "execution_count": 27,
   "metadata": {},
   "outputs": [
    {
     "data": {
      "image/png": "[encoded data removed]",
      "text/plain": [
       "<Figure size 432x288 with 1 Axes>"
      ]
     },
     "metadata": {
      "needs_background": "light"
     },
     "output_type": "display_data"
    }
   ],
   "source": [
    "plt.plot(cumulativeRevenueA['date'], cumulativeRevenueA['revenue']/cumulativeRevenueA['orders'], label='A')\n",
    "plt.plot(cumulativeRevenueB['date'], cumulativeRevenueB['revenue']/cumulativeRevenueB['orders'], label='B')\n",
    "plt.xlabel('Дата')\n",
    "plt.ylabel('Средний чек')\n",
    "plt.title(\"Кумулятивный средний чек по дням и группам A/B-тестирования\")\n",
    "plt.legend() \n",
    "plt.xticks(rotation=90)\n",
    "plt.show()\n",
    "\n"
   ]
  },
  {
   "cell_type": "markdown",
   "metadata": {},
   "source": [
    "Группа В вырвалась вперед по показателям выручки, но проверяемые данные сырые, необходимо удалить из нихвыбросы, особо крупные покупки.Для этого построим графики среднего чека по группам."
   ]
  },
  {
   "cell_type": "code",
   "execution_count": 28,
   "metadata": {},
   "outputs": [
    {
     "data": {
      "image/png": "[encoded data removed]",
      "text/plain": [
       "<Figure size 432x288 with 1 Axes>"
      ]
     },
     "metadata": {
      "needs_background": "light"
     },
     "output_type": "display_data"
    }
   ],
   "source": [
    "plt.plot(cumulativeRevenueA['date'], cumulativeRevenueA['revenue']/cumulativeRevenueA['orders'], label='A')\n",
    "plt.plot(cumulativeRevenueB['date'], cumulativeRevenueB['revenue']/cumulativeRevenueB['orders'], label='B')\n",
    "plt.xlabel('Дата')\n",
    "plt.ylabel('Средний чек')\n",
    "plt.title(\"Кумулятивный средний чек по дням и группам A/B-тестирования\")\n",
    "plt.legend() \n",
    "plt.xticks(rotation=90)\n",
    "plt.show()"
   ]
  },
  {
   "cell_type": "markdown",
   "metadata": {},
   "source": [
    "На графике видно что коммулятивный средний чек группы В совершил резкий скачек, но потом пошел на понижении."
   ]
  },
  {
   "cell_type": "markdown",
   "metadata": {},
   "source": [
    "Построим график относительно различия кумулятивного среднего чека группы B к группе A."
   ]
  },
  {
   "cell_type": "code",
   "execution_count": 29,
   "metadata": {},
   "outputs": [
    {
     "data": {
      "image/png": "[encoded data removed]",
      "text/plain": [
       "<Figure size 432x288 with 1 Axes>"
      ]
     },
     "metadata": {
      "needs_background": "light"
     },
     "output_type": "display_data"
    }
   ],
   "source": [
    "# собираем данные в одном датафрейме\n",
    "mergedCumulativeRevenue = cumulativeRevenueA.merge(cumulativeRevenueB, left_on='date', right_on='date', how='left', suffixes=['A', 'B'])\n",
    "\n",
    "# cтроим отношение средних чеков\n",
    "plt.plot(mergedCumulativeRevenue['date'], (mergedCumulativeRevenue['revenueB']/mergedCumulativeRevenue['ordersB'])/(mergedCumulativeRevenue['revenueA']/mergedCumulativeRevenue['ordersA'])-1)\n",
    "\n",
    "# добавляем ось X\n",
    "plt.axhline(y=0, color='black', linestyle='--') \n",
    "plt.xlabel('Дата')\n",
    "plt.ylabel('Различие среднего чека')\n",
    "plt.title(\"Относительное различие для среднего чека\")\n",
    "plt.xticks(rotation=90)\n",
    "plt.show()"
   ]
  },
  {
   "cell_type": "markdown",
   "metadata": {},
   "source": [
    "Картина подтверждается, нужно найти аномалии"
   ]
  },
  {
   "cell_type": "markdown",
   "metadata": {},
   "source": [
    "Аналогично проанализируем график кумулятивной конверсии"
   ]
  },
  {
   "cell_type": "code",
   "execution_count": 30,
   "metadata": {},
   "outputs": [
    {
     "data": {
      "image/png": "[encoded data removed]",
      "text/plain": [
       "<Figure size 432x288 with 1 Axes>"
      ]
     },
     "metadata": {
      "needs_background": "light"
     },
     "output_type": "display_data"
    }
   ],
   "source": [
    "# считаем кумулятивную конверсию\n",
    "cumulativeData['conversion'] = cumulativeData['orders']/cumulativeData['visitors']\n",
    "\n",
    "# отделяем данные по группе A\n",
    "cumulativeDataA = cumulativeData[cumulativeData['group']=='A']\n",
    "\n",
    "# отделяем данные по группе B\n",
    "cumulativeDataB = cumulativeData[cumulativeData['group']=='B']\n",
    "\n",
    "# строим графики\n",
    "plt.plot(cumulativeDataA['date'], cumulativeDataA['conversion'], label='A')\n",
    "plt.plot(cumulativeDataB['date'], cumulativeDataB['conversion'], label='B')\n",
    "plt.legend()\n",
    "\n",
    "# задаем масштаб осей\n",
    "plt.axis([dt.datetime(2019, 8, 1), dt.datetime(2019, 9, 1), 0, 0.04])\n",
    "plt.xlabel('Дата')\n",
    "plt.ylabel('среднее число заказов')\n",
    "plt.title(\"Кумулятивная конверсия по группам\")\n",
    "plt.xticks(rotation=90)\n",
    "plt.show()\n"
   ]
  },
  {
   "cell_type": "markdown",
   "metadata": {},
   "source": [
    "В начале теста сегмент А имел большую конверсию, затем он немного упал и вышел на плато, в отличие от сегмента В."
   ]
  },
  {
   "cell_type": "markdown",
   "metadata": {},
   "source": [
    "Построим график относительного различия кумулятивных конверсий:"
   ]
  },
  {
   "cell_type": "code",
   "execution_count": 31,
   "metadata": {},
   "outputs": [
    {
     "data": {
      "image/png": "[encoded data removed]",
      "text/plain": [
       "<Figure size 432x288 with 1 Axes>"
      ]
     },
     "metadata": {
      "needs_background": "light"
     },
     "output_type": "display_data"
    }
   ],
   "source": [
    "mergedCumulativeConversions = cumulativeDataA[['date','conversion']].merge(cumulativeDataB[['date','conversion']], left_on='date', right_on='date', how='left', suffixes=['A', 'B'])\n",
    "\n",
    "plt.plot(mergedCumulativeConversions['date'], mergedCumulativeConversions['conversionB']/mergedCumulativeConversions['conversionA']-1, label=\"Относительный прирост конверсии группы B относительно группы A\")\n",
    "plt.legend()\n",
    "\n",
    "plt.axhline(y=0, color='black', linestyle='--')\n",
    "plt.axhline(y=0.15, color='grey', linestyle='--')\n",
    "plt.axis([pd.to_datetime('2019-08-01', format = '%Y-%m-%d'),\n",
    "             pd.to_datetime('2019-09-01', format = '%Y-%m-%d'), -0.2, 0.3])\n",
    "plt.xlabel('Дата')\n",
    "plt.ylabel('Конверсия')\n",
    "plt.title(\"Относительный прирост конверсии группы В относительно группы А\")\n",
    "plt.xticks(rotation=90)\n",
    "plt.show()"
   ]
  },
  {
   "cell_type": "markdown",
   "metadata": {},
   "source": [
    "Прирост группы В местами достигает 20%,но все же выавнивается в пределах 15%"
   ]
  },
  {
   "cell_type": "markdown",
   "metadata": {},
   "source": [
    "#Изучим гистограмму распределения стоимостей заказов"
   ]
  },
  {
   "cell_type": "markdown",
   "metadata": {},
   "source": [
    "#Из такой гистаграммы не возможно сделать какие-либо выводы, постоитм точечную гистаграмму"
   ]
  },
  {
   "cell_type": "code",
   "execution_count": 32,
   "metadata": {},
   "outputs": [
    {
     "name": "stdout",
     "output_type": "stream",
     "text": [
      "     visitor_id  transaction_id\n",
      "908  3967698036               3\n",
      "55    249864742               3\n",
      "478  2108163459               3\n",
      "687  2988190573               3\n",
      "890  3908431265               3\n",
      "138   611059232               3\n",
      "632  2742574263               3\n",
      "157   678354126               2\n",
      "323  1404560065               2\n",
      "452  1985475298               2\n"
     ]
    },
    {
     "data": {
      "image/png": "[encoded data removed]",
      "text/plain": [
       "<Figure size 432x288 with 1 Axes>"
      ]
     },
     "metadata": {
      "needs_background": "light"
     },
     "output_type": "display_data"
    }
   ],
   "source": [
    "ordersByUsers = (\n",
    "    orders.groupby('visitor_id', as_index=False)\n",
    "    .agg({'transaction_id': 'nunique'})\n",
    ")\n",
    "ordersByUsers.columns = ['visitor_id', 'transaction_id']\n",
    "\n",
    "print(ordersByUsers.sort_values(by='transaction_id', ascending=False).head(10))\n",
    "\n",
    "# серия из чисел от 0 до количества наблюдений в ordersByUsers\n",
    "x_values = pd.Series(range(0, len(ordersByUsers)))\n",
    "plt.scatter(x_values, ordersByUsers['transaction_id']) \n",
    "plt.xlabel('Пользователи')\n",
    "plt.ylabel('Количество заказов')\n",
    "plt.title(\"Количество заказов по пользователям\")\n",
    "plt.show()"
   ]
  },
  {
   "cell_type": "markdown",
   "metadata": {},
   "source": [
    "В основном покупатели совершают 1-2 покупки, все что более можно считать аномалиями, но для того что бы убедиться в этом, посчитаем процентили количества заказов на пользователя 95 и 99."
   ]
  },
  {
   "cell_type": "code",
   "execution_count": 33,
   "metadata": {},
   "outputs": [
    {
     "name": "stdout",
     "output_type": "stream",
     "text": [
      "[1. 2.]\n"
     ]
    }
   ],
   "source": [
    "print(np.percentile(ordersByUsers['transaction_id'], [95, 99])) "
   ]
  },
  {
   "cell_type": "markdown",
   "metadata": {},
   "source": [
    "как видим не более 5% пользователей совершали более 2-х заказов, и всего 1% пользователей совершали более 4-х покупок "
   ]
  },
  {
   "cell_type": "code",
   "execution_count": 34,
   "metadata": {},
   "outputs": [
    {
     "data": {
      "image/png": "[encoded data removed]",
      "text/plain": [
       "<Figure size 432x288 with 1 Axes>"
      ]
     },
     "metadata": {
      "needs_background": "light"
     },
     "output_type": "display_data"
    }
   ],
   "source": [
    "x_values = pd.Series(range(0, len(orders['revenue'])))\n",
    "plt.scatter(x_values, orders['revenue']) \n",
    "plt.xlabel('Пользователи')\n",
    "plt.ylabel('Стоимость заказов')\n",
    "plt.title(\"Стоимости заказов\")\n",
    "plt.show()"
   ]
  },
  {
   "cell_type": "markdown",
   "metadata": {},
   "source": [
    "аномалии присутствуют и в стоимости заказов, посмотрим процент таких аномалий с помощью процентиля 95 и 99"
   ]
  },
  {
   "cell_type": "code",
   "execution_count": 35,
   "metadata": {},
   "outputs": [
    {
     "name": "stdout",
     "output_type": "stream",
     "text": [
      "    transaction_id  visitor_id       date  revenue group\n",
      "0       3667963787  3312258926 2019-08-15     1650     B\n",
      "1       2804400009  3642806036 2019-08-15      730     B\n",
      "3       3797467345  1196621759 2019-08-15     9759     B\n",
      "4       2282983706  2322279887 2019-08-15     2308     B\n",
      "5        182168103   935554773 2019-08-15     2210     B\n",
      "6        398296753  2900797465 2019-08-15     1860     B\n",
      "7       2626614568    78758296 2019-08-15     1044     A\n",
      "8       1576988021   295230930 2019-08-15    13710     A\n",
      "9       1506739906  1882260405 2019-08-15     1855     B\n",
      "10      3649131742   879864040 2019-08-15     4008     A\n",
      "[26785. 53904.]\n"
     ]
    }
   ],
   "source": [
    "print(orders.head(10))\n",
    "print(np.percentile(orders['revenue'], [95, 99])) "
   ]
  },
  {
   "cell_type": "markdown",
   "metadata": {},
   "source": [
    "не более 5% пользователей заказывали на сумму 28 т.р. и более, и всего 1% на сууму 58,23 т.р и более"
   ]
  },
  {
   "cell_type": "markdown",
   "metadata": {},
   "source": [
    "Посчитаем статистическую значимость различий в конверсии между группами по «сырым» данным.\n",
    "Сформулируем гипотезы:\n",
    "Н0- Конверсии группы А распределены нормально;\n",
    "Н1- Конверсии гуппы А не распределены нормально;\n",
    "Уровень статистической значимости 5%"
   ]
  },
  {
   "cell_type": "code",
   "execution_count": 36,
   "metadata": {},
   "outputs": [],
   "source": [
    "visitorsADaily = visitors[visitors['group'] == 'A'][['date', 'visitors']]\n",
    "visitorsADaily.columns = ['date', 'visitorsPerDateA']\n",
    "\n",
    "visitorsACummulative = visitorsADaily.apply(\n",
    "    lambda x: visitorsADaily[visitorsADaily['date'] <= x['date']].agg(\n",
    "        {'date': 'max', 'visitorsPerDateA': 'sum'}\n",
    "    ),\n",
    "    axis=1,\n",
    ")\n",
    "visitorsACummulative.columns = ['date', 'visitorsCummulativeA']\n",
    "\n",
    "visitorsBDaily = visitors[visitors['group'] == 'B'][['date', 'visitors']]\n",
    "visitorsBDaily.columns = ['date', 'visitorsPerDateB']\n",
    "\n",
    "visitorsBCummulative = visitorsBDaily.apply(\n",
    "    lambda x: visitorsBDaily[visitorsBDaily['date'] <= x['date']].agg(\n",
    "        {'date': 'max', 'visitorsPerDateB': 'sum'}\n",
    "    ),\n",
    "    axis=1,\n",
    ")\n",
    "visitorsBCummulative.columns = ['date', 'visitorsCummulativeB']\n",
    "\n",
    "ordersADaily = (\n",
    "    orders[orders['group'] == 'A'][['date', 'transaction_id', 'visitor_id', 'revenue']]\n",
    "    .groupby('date', as_index=False)\n",
    "    .agg({'transaction_id': pd.Series.nunique, 'revenue': 'sum'})\n",
    ")\n",
    "ordersADaily.columns = ['date', 'ordersPerDateA', 'revenuePerDateA']\n",
    "\n",
    "ordersACummulative = ordersADaily.apply(\n",
    "    lambda x: ordersADaily[ordersADaily['date'] <= x['date']].agg(\n",
    "        {'date': 'max', 'ordersPerDateA': 'sum', 'revenuePerDateA': 'sum'}\n",
    "    ),\n",
    "    axis=1,\n",
    ").sort_values(by=['date'])\n",
    "ordersACummulative.columns = [\n",
    "    'date',\n",
    "    'ordersCummulativeA',\n",
    "    'revenueCummulativeA',\n",
    "]\n",
    "\n",
    "ordersBDaily = (\n",
    "    orders[orders['group'] == 'B'][['date', 'transaction_id', 'visitor_id', 'revenue']]\n",
    "    .groupby('date', as_index=False)\n",
    "    .agg({'transaction_id': pd.Series.nunique, 'revenue': 'sum'})\n",
    ")\n",
    "ordersBDaily.columns = ['date', 'ordersPerDateB', 'revenuePerDateB']\n",
    "\n",
    "ordersBCummulative = ordersBDaily.apply(\n",
    "    lambda x: ordersBDaily[ordersBDaily['date'] <= x['date']].agg(\n",
    "        {'date': 'max', 'ordersPerDateB': 'sum', 'revenuePerDateB': 'sum'}\n",
    "    ),\n",
    "    axis=1,\n",
    ").sort_values(by=['date'])\n",
    "ordersBCummulative.columns = [\n",
    "    'date',\n",
    "    'ordersCummulativeB',\n",
    "    'revenueCummulativeB',\n",
    "]"
   ]
  },
  {
   "cell_type": "code",
   "execution_count": 37,
   "metadata": {},
   "outputs": [],
   "source": [
    "data = (\n",
    "    ordersADaily.merge(\n",
    "        ordersBDaily, left_on='date', right_on='date', how='left'\n",
    "    )\n",
    "    .merge(ordersACummulative, left_on='date', right_on='date', how='left')\n",
    "    .merge(ordersBCummulative, left_on='date', right_on='date', how='left')\n",
    "    .merge(visitorsADaily, left_on='date', right_on='date', how='left')\n",
    "    .merge(visitorsBDaily, left_on='date', right_on='date', how='left')\n",
    "    .merge(visitorsACummulative, left_on='date', right_on='date', how='left')\n",
    "    .merge(visitorsBCummulative, left_on='date', right_on='date', how='left')\n",
    ")"
   ]
  },
  {
   "cell_type": "code",
   "execution_count": 38,
   "metadata": {},
   "outputs": [
    {
     "name": "stdout",
     "output_type": "stream",
     "text": [
      "P-value: 0.011\n",
      "Относительные различия: 0.160\n"
     ]
    }
   ],
   "source": [
    "ordersByUsersA = (\n",
    "    orders[orders['group'] == 'A']\n",
    "    .groupby('visitor_id', as_index=False)\n",
    "    .agg({'transaction_id': pd.Series.nunique})\n",
    ")\n",
    "ordersByUsersA.columns = ['visitor_id', 'transaction_id']\n",
    "\n",
    "ordersByUsersB = (\n",
    "    orders[orders['group'] == 'B']\n",
    "    .groupby('visitor_id', as_index=False)\n",
    "    .agg({'transaction_id': pd.Series.nunique})\n",
    ")\n",
    "ordersByUsersB.columns = ['visitor_id', 'transaction_id'] \n",
    "sampleA = pd.concat([ordersByUsersA['transaction_id'],pd.Series(0, index=np.arange(data['visitorsPerDateA'].sum() - len(ordersByUsersA['transaction_id'])), name='orders')],axis=0)\n",
    "\n",
    "sampleB = pd.concat([ordersByUsersB['transaction_id'],pd.Series(0, index=np.arange(data['visitorsPerDateB'].sum() - len(ordersByUsersB['transaction_id'])), name='orders')],axis=0)\n",
    "print('P-value:',\"{0:.3f}\".format(stats.mannwhitneyu(sampleA, sampleB)[1]))\n",
    "\n",
    "print('Относительные различия:',\"{0:.3f}\".format(sampleB.mean() / sampleA.mean() - 1))"
   ]
  },
  {
   "cell_type": "markdown",
   "metadata": {},
   "source": [
    "P-value значительно меньше 0.05, значит стоит отвергнуть нулевую гипотезу. Анализ \"сырых данных\" сообщает, что в среднем количестве заказов между группами есть статистически значимые различия. Относительный прирост среднего группы В к конверсии группы А равен 16 %."
   ]
  },
  {
   "cell_type": "markdown",
   "metadata": {},
   "source": [
    "Сравним средние чеки по сырым данным, а затем проделаем те же самые действия с выборкой без выбросов.Н0 -Средние чеки групп A и B равны, статистически значимых отличий нет H1- Средние чеки групп A и B различны, статистически значимые отличия есть.Уровень статистической значимости 5%"
   ]
  },
  {
   "cell_type": "code",
   "execution_count": 39,
   "metadata": {},
   "outputs": [
    {
     "name": "stdout",
     "output_type": "stream",
     "text": [
      "P-value: 0.829\n",
      "Относительные различия: 0.287\n"
     ]
    }
   ],
   "source": [
    "print('P-value:','{0:.3f}'.format(stats.mannwhitneyu(orders[orders['group']=='A']['revenue'], orders[orders['group']=='B']['revenue'])[1]))\n",
    "print('Относительные различия:','{0:.3f}'.format(orders[orders['group']=='B']['revenue'].mean()/orders[orders['group']=='A']['revenue'].mean()-1)) "
   ]
  },
  {
   "cell_type": "markdown",
   "metadata": {},
   "source": [
    "P-value значительно больше 0.05, статистически значимых отличий в среднем чеке между группами нет. Относительное различие между чеками около 26%. Почстим данные и посчитаем те же метрики."
   ]
  },
  {
   "cell_type": "markdown",
   "metadata": {},
   "source": [
    "уберём 1% пользователей с наибольшим числом заказов и от 1% до 5% заказов с наибольшей стоимостью."
   ]
  },
  {
   "cell_type": "code",
   "execution_count": 40,
   "metadata": {},
   "outputs": [
    {
     "name": "stdout",
     "output_type": "stream",
     "text": [
      "1099    148427295\n",
      "928     204675465\n",
      "684     358944393\n",
      "648     382846391\n",
      "751     689129267\n",
      "Name: visitor_id, dtype: int64\n",
      "48\n"
     ]
    }
   ],
   "source": [
    "usersWithManyOrders = pd.concat(\n",
    "    [\n",
    "        ordersByUsersA[ordersByUsersA['transaction_id'] > 4]['visitor_id'],\n",
    "        ordersByUsersB[ordersByUsersB['transaction_id'] > 4]['visitor_id'],\n",
    "    ],\n",
    "    axis=0,\n",
    ")\n",
    "usersWithExpensiveOrders = orders[orders['revenue'] > 28000]['visitor_id']\n",
    "abnormalUsers = (\n",
    "    pd.concat([usersWithManyOrders, usersWithExpensiveOrders], axis=0)\n",
    "    .drop_duplicates()\n",
    "    .sort_values()\n",
    ")\n",
    "print(abnormalUsers.head(5))\n",
    "print(abnormalUsers.shape[0]) \n"
   ]
  },
  {
   "cell_type": "markdown",
   "metadata": {},
   "source": [
    "Посчитаем статистическую значимость различий в конверсии между группами теста по очищенным данным. Сначала подготовим выборки количества заказов по пользователям по группам теста:\n",
    "Сформулиуем гипотезы:\n",
    "H0-Конверсии групп A и B равны, статистически значимых отличий нет;\n",
    "H1-Конверсии групп A и B различны, статистически значимые отличия есть;\n",
    "5% критический уровень статистической значимости."
   ]
  },
  {
   "cell_type": "code",
   "execution_count": 41,
   "metadata": {},
   "outputs": [
    {
     "name": "stdout",
     "output_type": "stream",
     "text": [
      "P-value: 0.013\n",
      "Относительные различия: 0.162\n"
     ]
    }
   ],
   "source": [
    "sampleAFiltered = pd.concat(\n",
    "    [\n",
    "        ordersByUsersA[\n",
    "            np.logical_not(ordersByUsersA['visitor_id'].isin(abnormalUsers))\n",
    "        ]['transaction_id'],\n",
    "        pd.Series(\n",
    "            0,\n",
    "            index=np.arange(\n",
    "                data['visitorsPerDateA'].sum() - len(ordersByUsersA['transaction_id'])\n",
    "            ),\n",
    "            name='orders',\n",
    "        ),\n",
    "    ],\n",
    "    axis=0,\n",
    ")\n",
    "\n",
    "sampleBFiltered = pd.concat(\n",
    "    [\n",
    "        ordersByUsersB[\n",
    "            np.logical_not(ordersByUsersB['visitor_id'].isin(abnormalUsers))\n",
    "        ]['transaction_id'],\n",
    "        pd.Series(\n",
    "            0,\n",
    "            index=np.arange(\n",
    "                data['visitorsPerDateB'].sum() - len(ordersByUsersB['transaction_id'])\n",
    "            ),\n",
    "            name='orders',\n",
    "        ),\n",
    "    ],\n",
    "    axis=0,\n",
    ") \n",
    "print('P-value:','{0:.3f}'.format(stats.mannwhitneyu(sampleAFiltered, sampleBFiltered)[1]))\n",
    "print('Относительные различия:','{0:.3f}'.format(sampleBFiltered.mean()/sampleAFiltered.mean()-1)) "
   ]
  },
  {
   "cell_type": "markdown",
   "metadata": {},
   "source": [
    "статистическая значимость достигнута,группа В лучше грруппа А, отметим, что данные теста по сырым данным и по очищенным показали один и тот же результат, есть не существенные различия P-value, но процент относительных различий не изменился."
   ]
  },
  {
   "cell_type": "markdown",
   "metadata": {},
   "source": [
    "Посчитаем статистическую значимость различия средних чеков после удаления аномальных пользователей.\n",
    "Сформулируем гиотезы :\n",
    "H0-Средние чеки групп A и B равны, статистически значимых отличий нет;\n",
    "H1:Средние чеки групп A и B различны, статистически значимые отличия есть\n",
    "5% критический уровень статистической значимости."
   ]
  },
  {
   "cell_type": "code",
   "execution_count": 42,
   "metadata": {},
   "outputs": [
    {
     "name": "stdout",
     "output_type": "stream",
     "text": [
      "P-value: 0.862\n",
      "Относительные различия: -0.028\n"
     ]
    }
   ],
   "source": [
    "print('P-value:',\n",
    "    '{0:.3f}'.format(\n",
    "        stats.mannwhitneyu(\n",
    "            orders[\n",
    "                np.logical_and(\n",
    "                    orders['group'] == 'A',\n",
    "                    np.logical_not(orders['visitor_id'].isin(abnormalUsers)),\n",
    "                )\n",
    "            ]['revenue'],\n",
    "            orders[\n",
    "                np.logical_and(\n",
    "                    orders['group'] == 'B',\n",
    "                    np.logical_not(orders['visitor_id'].isin(abnormalUsers)),\n",
    "                )\n",
    "            ]['revenue'],\n",
    "        )[1]\n",
    "    )\n",
    ")\n",
    "\n",
    "print('Относительные различия:',\n",
    "    \"{0:.3f}\".format(\n",
    "        orders[\n",
    "            np.logical_and(\n",
    "                orders['group'] == 'B',\n",
    "                np.logical_not(orders['visitor_id'].isin(abnormalUsers)),\n",
    "            )\n",
    "        ]['revenue'].mean()\n",
    "        / orders[\n",
    "            np.logical_and(\n",
    "                orders['group'] == 'A',\n",
    "                np.logical_not(orders['visitor_id'].isin(abnormalUsers)),\n",
    "            )\n",
    "        ]['revenue'].mean()\n",
    "        - 1\n",
    "    )\n",
    ") "
   ]
  },
  {
   "cell_type": "markdown",
   "metadata": {},
   "source": [
    "P-value: 0.829  по сырым данным  отличаются от P-value: 0.862 по очищенным данным на 0,033, относительные различия изменились с 0,287 на -0,028 нужно обратить внимание на разницу между средним чеком. Она упала с 29% в пользу B до 3% в пользу A статистически значимых различий по этой метрике между группами нет, а наблюдаемая на неочищенных данных разница как мы и предполагали была связана с выбросами.\n",
    "\n",
    "\n"
   ]
  },
  {
   "cell_type": "markdown",
   "metadata": {},
   "source": [
    "Мы видим статистически значимое различие по конверсии между группами как по сырым данным, так и после фильтрации аномалий.\n",
    "По сырым данным нет статистически значимого различия по среднему чеку между группами, как и после удаления выбросов.\n",
    "График различия конверсии между группами сообщает, что результаты группы B лучше группы A: имеют тенденцию к росту, либо зафиксировались около среднего значения.\n",
    "Различия среднего чека колеблется: благодая чему мы смогли найти аномалии. Сделать из этого графика определённые выводы нельзя.\n",
    "Есть вариант остановить тест, признать победу группы В.\n",
    "Думаю, что при продолжении теста разница между группами в конверсиях либо среднем чеке изменяться на непродолжительный период времени и не на критиески значимую сумму, т.к. колебания в графиках носят затухающий характер.\n"
   ]
  }
 ],
 "metadata": {
  "ExecuteTimeLog": [
   {
    "duration": 80,
    "start_time": "2023-05-01T08:53:41.259Z"
   },
   {
    "duration": 71,
    "start_time": "2023-05-01T08:53:42.739Z"
   },
   {
    "duration": 822,
    "start_time": "2023-05-01T08:54:10.755Z"
   },
   {
    "duration": 98,
    "start_time": "2023-05-01T08:54:16.250Z"
   },
   {
    "duration": 54,
    "start_time": "2023-05-01T08:54:30.920Z"
   },
   {
    "duration": 74,
    "start_time": "2023-05-01T08:55:32.799Z"
   },
   {
    "duration": 18,
    "start_time": "2023-05-01T08:55:52.305Z"
   },
   {
    "duration": 4,
    "start_time": "2023-05-01T09:11:29.823Z"
   },
   {
    "duration": 44,
    "start_time": "2023-05-01T09:11:30.352Z"
   },
   {
    "duration": 16,
    "start_time": "2023-05-01T09:11:43.850Z"
   },
   {
    "duration": 23,
    "start_time": "2023-05-01T09:11:50.036Z"
   },
   {
    "duration": 12,
    "start_time": "2023-05-01T09:24:23.516Z"
   },
   {
    "duration": 73,
    "start_time": "2023-05-01T09:24:58.614Z"
   },
   {
    "duration": 13,
    "start_time": "2023-05-01T09:25:20.610Z"
   },
   {
    "duration": 7,
    "start_time": "2023-05-01T09:46:48.892Z"
   },
   {
    "duration": 12,
    "start_time": "2023-05-01T09:48:26.632Z"
   },
   {
    "duration": 12,
    "start_time": "2023-05-01T09:56:38.394Z"
   },
   {
    "duration": 109,
    "start_time": "2023-05-01T10:10:52.441Z"
   },
   {
    "duration": 11,
    "start_time": "2023-05-01T10:14:13.421Z"
   },
   {
    "duration": 18,
    "start_time": "2023-05-01T10:19:19.405Z"
   },
   {
    "duration": 334,
    "start_time": "2023-05-01T10:20:08.934Z"
   },
   {
    "duration": 315,
    "start_time": "2023-05-01T10:20:32.023Z"
   },
   {
    "duration": 64,
    "start_time": "2023-05-01T10:20:41.812Z"
   },
   {
    "duration": 9,
    "start_time": "2023-05-01T10:20:42.619Z"
   },
   {
    "duration": 16,
    "start_time": "2023-05-01T10:20:44.704Z"
   },
   {
    "duration": 337,
    "start_time": "2023-05-01T10:20:50.509Z"
   },
   {
    "duration": 310,
    "start_time": "2023-05-01T10:20:58.005Z"
   },
   {
    "duration": 56,
    "start_time": "2023-05-01T10:21:06.291Z"
   },
   {
    "duration": 12,
    "start_time": "2023-05-01T10:21:07.526Z"
   },
   {
    "duration": 17,
    "start_time": "2023-05-01T10:21:10.853Z"
   },
   {
    "duration": 78,
    "start_time": "2023-05-01T10:23:04.624Z"
   },
   {
    "duration": 9,
    "start_time": "2023-05-01T10:24:43.657Z"
   },
   {
    "duration": 12,
    "start_time": "2023-05-01T10:24:54.352Z"
   },
   {
    "duration": 9,
    "start_time": "2023-05-01T10:25:02.181Z"
   },
   {
    "duration": 10,
    "start_time": "2023-05-01T10:26:11.530Z"
   },
   {
    "duration": 8,
    "start_time": "2023-05-01T10:27:14.603Z"
   },
   {
    "duration": 15,
    "start_time": "2023-05-01T10:29:11.944Z"
   },
   {
    "duration": 7,
    "start_time": "2023-05-01T10:38:29.055Z"
   },
   {
    "duration": 41,
    "start_time": "2023-05-01T10:39:54.101Z"
   },
   {
    "duration": 24,
    "start_time": "2023-05-01T10:46:19.722Z"
   },
   {
    "duration": 162,
    "start_time": "2023-05-01T10:47:44.512Z"
   },
   {
    "duration": 170,
    "start_time": "2023-05-01T10:47:48.407Z"
   },
   {
    "duration": 123,
    "start_time": "2023-05-01T10:49:54.009Z"
   },
   {
    "duration": 57,
    "start_time": "2023-05-01T10:50:05.910Z"
   },
   {
    "duration": 7,
    "start_time": "2023-05-01T10:50:07.019Z"
   },
   {
    "duration": 16,
    "start_time": "2023-05-01T10:50:08.601Z"
   },
   {
    "duration": 33,
    "start_time": "2023-05-01T10:50:09.505Z"
   },
   {
    "duration": 8,
    "start_time": "2023-05-01T10:50:10.312Z"
   },
   {
    "duration": 8,
    "start_time": "2023-05-01T10:50:11.928Z"
   },
   {
    "duration": 10,
    "start_time": "2023-05-01T10:50:12.808Z"
   },
   {
    "duration": 6,
    "start_time": "2023-05-01T10:50:14.527Z"
   },
   {
    "duration": 166,
    "start_time": "2023-05-01T10:50:15.350Z"
   },
   {
    "duration": 133,
    "start_time": "2023-05-01T10:50:16.142Z"
   },
   {
    "duration": 13,
    "start_time": "2023-05-01T10:51:37.160Z"
   },
   {
    "duration": 15,
    "start_time": "2023-05-01T10:59:47.012Z"
   },
   {
    "duration": 7,
    "start_time": "2023-05-01T11:03:18.553Z"
   },
   {
    "duration": 5,
    "start_time": "2023-05-01T11:03:39.613Z"
   },
   {
    "duration": 12,
    "start_time": "2023-05-01T11:04:08.408Z"
   },
   {
    "duration": 809,
    "start_time": "2023-05-01T11:04:43.219Z"
   },
   {
    "duration": 85,
    "start_time": "2023-05-01T11:04:44.961Z"
   },
   {
    "duration": 73,
    "start_time": "2023-05-01T11:04:45.621Z"
   },
   {
    "duration": 28,
    "start_time": "2023-05-01T11:04:54.007Z"
   },
   {
    "duration": 21,
    "start_time": "2023-05-01T11:04:55.015Z"
   },
   {
    "duration": 29,
    "start_time": "2023-05-01T11:05:09.905Z"
   },
   {
    "duration": 15,
    "start_time": "2023-05-01T11:05:10.434Z"
   },
   {
    "duration": 25,
    "start_time": "2023-05-01T11:05:11.748Z"
   },
   {
    "duration": 14,
    "start_time": "2023-05-01T11:05:13.013Z"
   },
   {
    "duration": 13,
    "start_time": "2023-05-01T11:05:14.319Z"
   },
   {
    "duration": 110,
    "start_time": "2023-05-01T11:05:15.021Z"
   },
   {
    "duration": 14,
    "start_time": "2023-05-01T11:05:25.223Z"
   },
   {
    "duration": 97,
    "start_time": "2023-05-01T11:05:27.486Z"
   },
   {
    "duration": 15,
    "start_time": "2023-05-01T11:05:28.243Z"
   },
   {
    "duration": 26,
    "start_time": "2023-05-01T11:05:29.789Z"
   },
   {
    "duration": 83,
    "start_time": "2023-05-01T11:05:30.525Z"
   },
   {
    "duration": 16,
    "start_time": "2023-05-01T11:05:31.213Z"
   },
   {
    "duration": 10,
    "start_time": "2023-05-01T11:05:32.764Z"
   },
   {
    "duration": 15,
    "start_time": "2023-05-01T11:05:33.539Z"
   },
   {
    "duration": 9,
    "start_time": "2023-05-01T11:05:35.116Z"
   },
   {
    "duration": 308,
    "start_time": "2023-05-01T11:05:35.785Z"
   },
   {
    "duration": 202,
    "start_time": "2023-05-01T11:05:36.415Z"
   },
   {
    "duration": 18,
    "start_time": "2023-05-01T11:05:37.117Z"
   },
   {
    "duration": 8,
    "start_time": "2023-05-01T11:05:38.428Z"
   },
   {
    "duration": 6,
    "start_time": "2023-05-01T11:05:39.118Z"
   },
   {
    "duration": 434,
    "start_time": "2023-05-01T11:05:40.516Z"
   },
   {
    "duration": 349,
    "start_time": "2023-05-01T11:16:28.136Z"
   },
   {
    "duration": 422,
    "start_time": "2023-05-01T11:24:00.441Z"
   },
   {
    "duration": 332,
    "start_time": "2023-05-01T11:27:37.309Z"
   },
   {
    "duration": 128,
    "start_time": "2023-05-01T11:31:23.019Z"
   },
   {
    "duration": 435,
    "start_time": "2023-05-01T11:31:36.325Z"
   },
   {
    "duration": 426,
    "start_time": "2023-05-01T11:32:10.564Z"
   },
   {
    "duration": 10,
    "start_time": "2023-05-01T11:35:59.460Z"
   },
   {
    "duration": 238,
    "start_time": "2023-05-01T11:37:09.818Z"
   },
   {
    "duration": 228,
    "start_time": "2023-05-01T11:39:09.537Z"
   },
   {
    "duration": 186,
    "start_time": "2023-05-01T11:40:25.420Z"
   },
   {
    "duration": 77,
    "start_time": "2023-05-01T11:47:30.704Z"
   },
   {
    "duration": 5,
    "start_time": "2023-05-01T11:51:34.957Z"
   },
   {
    "duration": 173,
    "start_time": "2023-05-01T11:56:07.919Z"
   },
   {
    "duration": 257,
    "start_time": "2023-05-01T11:57:15.560Z"
   },
   {
    "duration": 259,
    "start_time": "2023-05-01T11:57:34.929Z"
   },
   {
    "duration": 12,
    "start_time": "2023-05-01T12:07:55.522Z"
   },
   {
    "duration": 480,
    "start_time": "2023-05-01T12:11:40.942Z"
   },
   {
    "duration": 50,
    "start_time": "2023-05-01T12:11:57.687Z"
   },
   {
    "duration": 277,
    "start_time": "2023-05-01T12:30:10.752Z"
   },
   {
    "duration": 16,
    "start_time": "2023-05-01T12:43:32.764Z"
   },
   {
    "duration": 1747,
    "start_time": "2023-05-01T12:48:11.816Z"
   },
   {
    "duration": 25,
    "start_time": "2023-05-01T12:49:37.419Z"
   },
   {
    "duration": 34,
    "start_time": "2023-05-01T12:50:19.119Z"
   },
   {
    "duration": 18,
    "start_time": "2023-05-01T12:52:57.164Z"
   },
   {
    "duration": 3,
    "start_time": "2023-05-01T13:00:47.245Z"
   },
   {
    "duration": 31,
    "start_time": "2023-05-01T13:00:48.931Z"
   },
   {
    "duration": 19,
    "start_time": "2023-05-01T13:00:49.500Z"
   },
   {
    "duration": 19,
    "start_time": "2023-05-01T13:00:51.124Z"
   },
   {
    "duration": 17,
    "start_time": "2023-05-01T13:00:52.485Z"
   },
   {
    "duration": 13,
    "start_time": "2023-05-01T13:00:53.789Z"
   },
   {
    "duration": 12,
    "start_time": "2023-05-01T13:00:55.752Z"
   },
   {
    "duration": 59,
    "start_time": "2023-05-01T13:00:57.716Z"
   },
   {
    "duration": 13,
    "start_time": "2023-05-01T13:00:58.342Z"
   },
   {
    "duration": 39,
    "start_time": "2023-05-01T13:00:59.586Z"
   },
   {
    "duration": 63,
    "start_time": "2023-05-01T13:01:00.194Z"
   },
   {
    "duration": 15,
    "start_time": "2023-05-01T13:01:00.792Z"
   },
   {
    "duration": 8,
    "start_time": "2023-05-01T13:01:02.068Z"
   },
   {
    "duration": 12,
    "start_time": "2023-05-01T13:01:02.727Z"
   },
   {
    "duration": 6,
    "start_time": "2023-05-01T13:01:03.940Z"
   },
   {
    "duration": 191,
    "start_time": "2023-05-01T13:01:04.617Z"
   },
   {
    "duration": 161,
    "start_time": "2023-05-01T13:01:05.251Z"
   },
   {
    "duration": 17,
    "start_time": "2023-05-01T13:01:05.823Z"
   },
   {
    "duration": 6,
    "start_time": "2023-05-01T13:01:07.134Z"
   },
   {
    "duration": 7,
    "start_time": "2023-05-01T13:01:07.749Z"
   },
   {
    "duration": 220,
    "start_time": "2023-05-01T13:01:08.534Z"
   },
   {
    "duration": 240,
    "start_time": "2023-05-01T13:01:10.036Z"
   },
   {
    "duration": 317,
    "start_time": "2023-05-01T13:01:12.557Z"
   },
   {
    "duration": 254,
    "start_time": "2023-05-01T13:01:14.626Z"
   },
   {
    "duration": 404,
    "start_time": "2023-05-01T13:01:16.550Z"
   },
   {
    "duration": 301,
    "start_time": "2023-05-01T13:01:35.222Z"
   },
   {
    "duration": 6,
    "start_time": "2023-05-01T13:01:37.032Z"
   },
   {
    "duration": 219,
    "start_time": "2023-05-01T13:01:38.356Z"
   },
   {
    "duration": 15,
    "start_time": "2023-05-01T13:01:39.605Z"
   },
   {
    "duration": 301,
    "start_time": "2023-05-01T13:01:41.525Z"
   },
   {
    "duration": 29,
    "start_time": "2023-05-01T13:01:42.151Z"
   },
   {
    "duration": 224,
    "start_time": "2023-05-01T13:01:42.760Z"
   },
   {
    "duration": 22,
    "start_time": "2023-05-01T13:01:44.628Z"
   },
   {
    "duration": 23,
    "start_time": "2023-05-01T13:01:46.420Z"
   },
   {
    "duration": 70,
    "start_time": "2023-05-01T13:01:47.006Z"
   },
   {
    "duration": 25,
    "start_time": "2023-05-01T13:01:48.530Z"
   },
   {
    "duration": 920,
    "start_time": "2023-05-01T14:52:58.228Z"
   },
   {
    "duration": 118,
    "start_time": "2023-05-01T14:52:59.150Z"
   },
   {
    "duration": 18,
    "start_time": "2023-05-01T14:52:59.269Z"
   },
   {
    "duration": 11,
    "start_time": "2023-05-01T14:52:59.290Z"
   },
   {
    "duration": 10,
    "start_time": "2023-05-01T14:52:59.302Z"
   },
   {
    "duration": 9,
    "start_time": "2023-05-01T14:52:59.313Z"
   },
   {
    "duration": 7,
    "start_time": "2023-05-01T14:52:59.323Z"
   },
   {
    "duration": 158,
    "start_time": "2023-05-01T14:52:59.332Z"
   },
   {
    "duration": 6,
    "start_time": "2023-05-01T14:52:59.491Z"
   },
   {
    "duration": 19,
    "start_time": "2023-05-01T14:52:59.499Z"
   },
   {
    "duration": 82,
    "start_time": "2023-05-01T14:52:59.520Z"
   },
   {
    "duration": 5,
    "start_time": "2023-05-01T14:52:59.603Z"
   },
   {
    "duration": 15,
    "start_time": "2023-05-01T14:52:59.610Z"
   },
   {
    "duration": 17,
    "start_time": "2023-05-01T14:52:59.626Z"
   },
   {
    "duration": 9,
    "start_time": "2023-05-01T14:52:59.644Z"
   },
   {
    "duration": 149,
    "start_time": "2023-05-01T14:52:59.654Z"
   },
   {
    "duration": 128,
    "start_time": "2023-05-01T14:52:59.804Z"
   },
   {
    "duration": 12,
    "start_time": "2023-05-01T14:52:59.933Z"
   },
   {
    "duration": 11,
    "start_time": "2023-05-01T14:52:59.947Z"
   },
   {
    "duration": 12,
    "start_time": "2023-05-01T14:52:59.960Z"
   },
   {
    "duration": 275,
    "start_time": "2023-05-01T14:52:59.974Z"
   },
   {
    "duration": 171,
    "start_time": "2023-05-01T14:53:00.250Z"
   },
   {
    "duration": 216,
    "start_time": "2023-05-01T14:53:00.422Z"
   },
   {
    "duration": 184,
    "start_time": "2023-05-01T14:53:00.639Z"
   },
   {
    "duration": 326,
    "start_time": "2023-05-01T14:53:00.824Z"
   },
   {
    "duration": 138,
    "start_time": "2023-05-01T14:53:01.152Z"
   },
   {
    "duration": 4,
    "start_time": "2023-05-01T14:53:01.295Z"
   },
   {
    "duration": 188,
    "start_time": "2023-05-01T14:53:01.300Z"
   },
   {
    "duration": 8,
    "start_time": "2023-05-01T14:53:01.490Z"
   },
   {
    "duration": 191,
    "start_time": "2023-05-01T14:53:01.499Z"
   },
   {
    "duration": 19,
    "start_time": "2023-05-01T14:53:01.692Z"
   },
   {
    "duration": 145,
    "start_time": "2023-05-01T14:53:01.712Z"
   },
   {
    "duration": 29,
    "start_time": "2023-05-01T14:53:01.859Z"
   },
   {
    "duration": 20,
    "start_time": "2023-05-01T14:53:01.890Z"
   },
   {
    "duration": 78,
    "start_time": "2023-05-01T14:53:01.911Z"
   },
   {
    "duration": 11,
    "start_time": "2023-05-01T14:53:01.991Z"
   },
   {
    "duration": 44,
    "start_time": "2023-05-02T14:03:36.412Z"
   },
   {
    "duration": 1280,
    "start_time": "2023-05-02T14:03:49.154Z"
   },
   {
    "duration": 138,
    "start_time": "2023-05-02T14:03:51.005Z"
   },
   {
    "duration": 12,
    "start_time": "2023-05-02T14:03:51.708Z"
   },
   {
    "duration": 11,
    "start_time": "2023-05-02T14:03:53.206Z"
   },
   {
    "duration": 9,
    "start_time": "2023-05-02T14:03:54.853Z"
   },
   {
    "duration": 12,
    "start_time": "2023-05-02T14:03:56.582Z"
   },
   {
    "duration": 10,
    "start_time": "2023-05-02T14:04:02.646Z"
   },
   {
    "duration": 7,
    "start_time": "2023-05-02T14:38:39.133Z"
   },
   {
    "duration": 91,
    "start_time": "2023-05-02T16:03:32.105Z"
   },
   {
    "duration": 3,
    "start_time": "2023-05-02T16:03:46.127Z"
   },
   {
    "duration": 26,
    "start_time": "2023-05-02T16:03:47.250Z"
   },
   {
    "duration": 10,
    "start_time": "2023-05-02T16:03:47.582Z"
   },
   {
    "duration": 9,
    "start_time": "2023-05-02T16:03:48.262Z"
   },
   {
    "duration": 8,
    "start_time": "2023-05-02T16:03:48.971Z"
   },
   {
    "duration": 9,
    "start_time": "2023-05-02T16:03:49.720Z"
   },
   {
    "duration": 12,
    "start_time": "2023-05-02T16:03:51.618Z"
   },
   {
    "duration": 51,
    "start_time": "2023-05-02T16:03:54.579Z"
   },
   {
    "duration": 8,
    "start_time": "2023-05-02T16:03:54.883Z"
   },
   {
    "duration": 13,
    "start_time": "2023-05-02T16:03:56.016Z"
   },
   {
    "duration": 35,
    "start_time": "2023-05-02T16:03:56.716Z"
   },
   {
    "duration": 7,
    "start_time": "2023-05-02T16:03:57.519Z"
   },
   {
    "duration": 6,
    "start_time": "2023-05-02T16:04:00.985Z"
   },
   {
    "duration": 10,
    "start_time": "2023-05-02T16:04:01.870Z"
   },
   {
    "duration": 6,
    "start_time": "2023-05-02T16:04:04.870Z"
   },
   {
    "duration": 154,
    "start_time": "2023-05-02T16:04:05.635Z"
   },
   {
    "duration": 137,
    "start_time": "2023-05-02T16:04:06.511Z"
   },
   {
    "duration": 13,
    "start_time": "2023-05-02T16:04:07.274Z"
   },
   {
    "duration": 5,
    "start_time": "2023-05-02T16:04:08.860Z"
   },
   {
    "duration": 5,
    "start_time": "2023-05-02T16:04:09.615Z"
   },
   {
    "duration": 278,
    "start_time": "2023-05-02T16:04:10.624Z"
   },
   {
    "duration": 356,
    "start_time": "2023-05-02T16:12:58.955Z"
   },
   {
    "duration": 179,
    "start_time": "2023-05-02T16:15:39.652Z"
   },
   {
    "duration": 1236,
    "start_time": "2023-05-04T14:27:26.667Z"
   },
   {
    "duration": 157,
    "start_time": "2023-05-04T14:27:28.504Z"
   },
   {
    "duration": 12,
    "start_time": "2023-05-04T14:27:29.016Z"
   },
   {
    "duration": 12,
    "start_time": "2023-05-04T14:27:30.302Z"
   },
   {
    "duration": 10,
    "start_time": "2023-05-04T14:27:38.830Z"
   },
   {
    "duration": 10,
    "start_time": "2023-05-04T14:28:01.687Z"
   },
   {
    "duration": 8,
    "start_time": "2023-05-04T14:28:06.375Z"
   },
   {
    "duration": 98,
    "start_time": "2023-05-04T14:28:39.512Z"
   },
   {
    "duration": 8,
    "start_time": "2023-05-04T14:28:53.082Z"
   },
   {
    "duration": 9,
    "start_time": "2023-05-04T14:28:55.171Z"
   },
   {
    "duration": 13,
    "start_time": "2023-05-04T14:29:24.676Z"
   },
   {
    "duration": 155,
    "start_time": "2023-05-04T14:33:01.279Z"
   },
   {
    "duration": 9,
    "start_time": "2023-05-04T14:33:09.168Z"
   },
   {
    "duration": 13,
    "start_time": "2023-05-04T14:35:25.378Z"
   },
   {
    "duration": 2,
    "start_time": "2023-05-04T14:40:53.867Z"
   },
   {
    "duration": 48,
    "start_time": "2023-05-04T14:40:55.123Z"
   },
   {
    "duration": 9,
    "start_time": "2023-05-04T14:40:55.508Z"
   },
   {
    "duration": 9,
    "start_time": "2023-05-04T14:40:56.258Z"
   },
   {
    "duration": 7,
    "start_time": "2023-05-04T14:40:57.105Z"
   },
   {
    "duration": 8,
    "start_time": "2023-05-04T14:40:58.106Z"
   },
   {
    "duration": 9,
    "start_time": "2023-05-04T14:41:00.275Z"
   },
   {
    "duration": 125,
    "start_time": "2023-05-04T14:41:05.063Z"
   },
   {
    "duration": 9,
    "start_time": "2023-05-04T14:41:05.654Z"
   },
   {
    "duration": 14,
    "start_time": "2023-05-04T14:41:07.795Z"
   },
   {
    "duration": 98,
    "start_time": "2023-05-04T14:41:08.905Z"
   },
   {
    "duration": 9,
    "start_time": "2023-05-04T14:41:10.056Z"
   },
   {
    "duration": 9,
    "start_time": "2023-05-04T14:41:15.540Z"
   },
   {
    "duration": 10,
    "start_time": "2023-05-04T14:41:16.892Z"
   },
   {
    "duration": 1913,
    "start_time": "2023-05-04T14:41:22.598Z"
   },
   {
    "duration": 1384,
    "start_time": "2023-05-04T14:42:09.876Z"
   },
   {
    "duration": 9,
    "start_time": "2023-05-04T14:43:49.684Z"
   },
   {
    "duration": 10,
    "start_time": "2023-05-04T17:20:13.566Z"
   },
   {
    "duration": 33,
    "start_time": "2023-05-04T17:22:53.361Z"
   },
   {
    "duration": 54,
    "start_time": "2023-05-04T17:23:25.338Z"
   },
   {
    "duration": 5,
    "start_time": "2023-05-04T17:23:43.966Z"
   },
   {
    "duration": 7,
    "start_time": "2023-05-04T17:24:24.619Z"
   },
   {
    "duration": 5,
    "start_time": "2023-05-04T17:27:26.082Z"
   },
   {
    "duration": 7,
    "start_time": "2023-05-04T17:27:29.530Z"
   },
   {
    "duration": 10,
    "start_time": "2023-05-04T17:27:53.799Z"
   },
   {
    "duration": 7,
    "start_time": "2023-05-04T17:27:57.700Z"
   },
   {
    "duration": 184,
    "start_time": "2023-05-04T17:27:59.146Z"
   },
   {
    "duration": 132,
    "start_time": "2023-05-04T17:27:59.927Z"
   },
   {
    "duration": 9,
    "start_time": "2023-05-04T17:28:09.016Z"
   },
   {
    "duration": 3,
    "start_time": "2023-05-04T17:28:29.077Z"
   },
   {
    "duration": 25,
    "start_time": "2023-05-04T17:28:31.133Z"
   },
   {
    "duration": 10,
    "start_time": "2023-05-04T17:28:31.760Z"
   },
   {
    "duration": 10,
    "start_time": "2023-05-04T17:28:33.466Z"
   },
   {
    "duration": 9,
    "start_time": "2023-05-04T17:28:35.181Z"
   },
   {
    "duration": 9,
    "start_time": "2023-05-04T17:28:36.897Z"
   },
   {
    "duration": 11,
    "start_time": "2023-05-04T17:28:41.120Z"
   },
   {
    "duration": 57,
    "start_time": "2023-05-04T17:28:49.802Z"
   },
   {
    "duration": 51,
    "start_time": "2023-05-04T17:30:26.921Z"
   },
   {
    "duration": 8,
    "start_time": "2023-05-04T17:30:28.925Z"
   },
   {
    "duration": 14,
    "start_time": "2023-05-04T17:30:31.830Z"
   },
   {
    "duration": 31,
    "start_time": "2023-05-04T17:30:34.123Z"
   },
   {
    "duration": 8,
    "start_time": "2023-05-04T17:30:36.140Z"
   },
   {
    "duration": 8,
    "start_time": "2023-05-04T17:30:43.294Z"
   },
   {
    "duration": 10,
    "start_time": "2023-05-04T17:30:48.162Z"
   },
   {
    "duration": 9,
    "start_time": "2023-05-04T17:31:09.039Z"
   },
   {
    "duration": 6,
    "start_time": "2023-05-04T17:31:10.697Z"
   },
   {
    "duration": 151,
    "start_time": "2023-05-04T17:31:13.441Z"
   },
   {
    "duration": 114,
    "start_time": "2023-05-04T17:31:14.389Z"
   },
   {
    "duration": 6,
    "start_time": "2023-05-04T17:33:31.693Z"
   },
   {
    "duration": 152,
    "start_time": "2023-05-04T17:33:36.725Z"
   },
   {
    "duration": 10,
    "start_time": "2023-05-04T17:34:44.772Z"
   },
   {
    "duration": 26,
    "start_time": "2023-05-04T17:36:05.020Z"
   },
   {
    "duration": 5,
    "start_time": "2023-05-04T17:36:32.075Z"
   },
   {
    "duration": 9,
    "start_time": "2023-05-04T17:36:34.369Z"
   },
   {
    "duration": 1198,
    "start_time": "2023-05-07T09:59:25.701Z"
   },
   {
    "duration": 136,
    "start_time": "2023-05-07T09:59:28.631Z"
   },
   {
    "duration": 11,
    "start_time": "2023-05-07T09:59:28.885Z"
   },
   {
    "duration": 11,
    "start_time": "2023-05-07T09:59:29.501Z"
   },
   {
    "duration": 8,
    "start_time": "2023-05-07T09:59:29.961Z"
   },
   {
    "duration": 10,
    "start_time": "2023-05-07T09:59:30.637Z"
   },
   {
    "duration": 12,
    "start_time": "2023-05-07T09:59:31.435Z"
   },
   {
    "duration": 121,
    "start_time": "2023-05-07T09:59:33.878Z"
   },
   {
    "duration": 10,
    "start_time": "2023-05-07T09:59:34.496Z"
   },
   {
    "duration": 16,
    "start_time": "2023-05-07T09:59:35.292Z"
   },
   {
    "duration": 89,
    "start_time": "2023-05-07T09:59:35.605Z"
   },
   {
    "duration": 6,
    "start_time": "2023-05-07T09:59:35.975Z"
   },
   {
    "duration": 5,
    "start_time": "2023-05-07T09:59:36.803Z"
   },
   {
    "duration": 11,
    "start_time": "2023-05-07T09:59:37.069Z"
   },
   {
    "duration": 10,
    "start_time": "2023-05-07T09:59:39.863Z"
   },
   {
    "duration": 5,
    "start_time": "2023-05-07T09:59:40.571Z"
   },
   {
    "duration": 5,
    "start_time": "2023-05-07T09:59:41.397Z"
   },
   {
    "duration": 9,
    "start_time": "2023-05-07T09:59:41.669Z"
   },
   {
    "duration": 172,
    "start_time": "2023-05-07T09:59:42.284Z"
   },
   {
    "duration": 118,
    "start_time": "2023-05-07T09:59:42.695Z"
   },
   {
    "duration": 20,
    "start_time": "2023-05-07T09:59:42.951Z"
   },
   {
    "duration": 5,
    "start_time": "2023-05-07T09:59:43.661Z"
   },
   {
    "duration": 4,
    "start_time": "2023-05-07T09:59:44.077Z"
   },
   {
    "duration": 290,
    "start_time": "2023-05-07T09:59:44.285Z"
   },
   {
    "duration": 185,
    "start_time": "2023-05-07T09:59:46.187Z"
   },
   {
    "duration": 323,
    "start_time": "2023-05-07T09:59:49.265Z"
   },
   {
    "duration": 193,
    "start_time": "2023-05-07T09:59:50.605Z"
   },
   {
    "duration": 319,
    "start_time": "2023-05-07T09:59:51.722Z"
   },
   {
    "duration": 212,
    "start_time": "2023-05-07T10:14:11.169Z"
   },
   {
    "duration": 12,
    "start_time": "2023-05-07T10:42:20.770Z"
   },
   {
    "duration": 139,
    "start_time": "2023-05-07T10:45:57.619Z"
   },
   {
    "duration": 3,
    "start_time": "2023-05-07T10:46:39.188Z"
   },
   {
    "duration": 26,
    "start_time": "2023-05-07T10:46:40.472Z"
   },
   {
    "duration": 10,
    "start_time": "2023-05-07T10:46:40.873Z"
   },
   {
    "duration": 8,
    "start_time": "2023-05-07T10:46:41.476Z"
   },
   {
    "duration": 10,
    "start_time": "2023-05-07T10:46:42.209Z"
   },
   {
    "duration": 7,
    "start_time": "2023-05-07T10:46:42.737Z"
   },
   {
    "duration": 9,
    "start_time": "2023-05-07T10:46:43.522Z"
   },
   {
    "duration": 54,
    "start_time": "2023-05-07T10:46:45.468Z"
   },
   {
    "duration": 7,
    "start_time": "2023-05-07T10:46:45.829Z"
   },
   {
    "duration": 15,
    "start_time": "2023-05-07T10:46:46.611Z"
   },
   {
    "duration": 32,
    "start_time": "2023-05-07T10:46:46.976Z"
   },
   {
    "duration": 7,
    "start_time": "2023-05-07T10:46:47.291Z"
   },
   {
    "duration": 6,
    "start_time": "2023-05-07T10:46:48.139Z"
   },
   {
    "duration": 14,
    "start_time": "2023-05-07T10:46:48.461Z"
   },
   {
    "duration": 11,
    "start_time": "2023-05-07T10:46:50.791Z"
   },
   {
    "duration": 7,
    "start_time": "2023-05-07T10:46:51.796Z"
   },
   {
    "duration": 7,
    "start_time": "2023-05-07T10:46:52.509Z"
   },
   {
    "duration": 13,
    "start_time": "2023-05-07T10:46:52.893Z"
   },
   {
    "duration": 169,
    "start_time": "2023-05-07T10:46:53.897Z"
   },
   {
    "duration": 148,
    "start_time": "2023-05-07T10:46:54.362Z"
   },
   {
    "duration": 15,
    "start_time": "2023-05-07T10:46:54.769Z"
   },
   {
    "duration": 4,
    "start_time": "2023-05-07T10:46:55.776Z"
   },
   {
    "duration": 5,
    "start_time": "2023-05-07T10:46:56.113Z"
   },
   {
    "duration": 202,
    "start_time": "2023-05-07T10:46:56.437Z"
   },
   {
    "duration": 190,
    "start_time": "2023-05-07T10:46:57.876Z"
   },
   {
    "duration": 311,
    "start_time": "2023-05-07T10:46:59.339Z"
   },
   {
    "duration": 273,
    "start_time": "2023-05-07T10:47:00.462Z"
   },
   {
    "duration": 292,
    "start_time": "2023-05-07T10:47:02.673Z"
   },
   {
    "duration": 140,
    "start_time": "2023-05-07T10:47:06.283Z"
   },
   {
    "duration": 4,
    "start_time": "2023-05-07T10:47:07.234Z"
   },
   {
    "duration": 123,
    "start_time": "2023-05-07T10:47:08.217Z"
   },
   {
    "duration": 8,
    "start_time": "2023-05-07T10:47:09.661Z"
   },
   {
    "duration": 221,
    "start_time": "2023-05-07T10:47:11.418Z"
   },
   {
    "duration": 22,
    "start_time": "2023-05-07T10:47:11.898Z"
   },
   {
    "duration": 141,
    "start_time": "2023-05-07T10:47:13.873Z"
   },
   {
    "duration": 11,
    "start_time": "2023-05-07T10:47:59.018Z"
   },
   {
    "duration": 10,
    "start_time": "2023-05-07T10:48:04.675Z"
   },
   {
    "duration": 41,
    "start_time": "2023-05-07T10:48:18.939Z"
   },
   {
    "duration": 18,
    "start_time": "2023-05-07T10:54:28.895Z"
   },
   {
    "duration": 4,
    "start_time": "2023-05-07T11:12:32.604Z"
   },
   {
    "duration": 27,
    "start_time": "2023-05-07T11:12:33.423Z"
   },
   {
    "duration": 12,
    "start_time": "2023-05-07T11:12:33.640Z"
   },
   {
    "duration": 9,
    "start_time": "2023-05-07T11:12:34.111Z"
   },
   {
    "duration": 11,
    "start_time": "2023-05-07T11:12:34.529Z"
   },
   {
    "duration": 9,
    "start_time": "2023-05-07T11:12:34.949Z"
   },
   {
    "duration": 8,
    "start_time": "2023-05-07T11:12:35.630Z"
   },
   {
    "duration": 54,
    "start_time": "2023-05-07T11:12:36.679Z"
   },
   {
    "duration": 12,
    "start_time": "2023-05-07T11:12:36.905Z"
   },
   {
    "duration": 18,
    "start_time": "2023-05-07T11:12:37.343Z"
   },
   {
    "duration": 22,
    "start_time": "2023-05-07T11:12:37.577Z"
   },
   {
    "duration": 7,
    "start_time": "2023-05-07T11:12:37.811Z"
   },
   {
    "duration": 7,
    "start_time": "2023-05-07T11:12:38.246Z"
   },
   {
    "duration": 13,
    "start_time": "2023-05-07T11:12:38.495Z"
   },
   {
    "duration": 10,
    "start_time": "2023-05-07T11:12:39.615Z"
   },
   {
    "duration": 6,
    "start_time": "2023-05-07T11:12:40.088Z"
   },
   {
    "duration": 5,
    "start_time": "2023-05-07T11:12:40.535Z"
   },
   {
    "duration": 9,
    "start_time": "2023-05-07T11:12:40.743Z"
   },
   {
    "duration": 159,
    "start_time": "2023-05-07T11:12:41.159Z"
   },
   {
    "duration": 114,
    "start_time": "2023-05-07T11:12:41.422Z"
   },
   {
    "duration": 14,
    "start_time": "2023-05-07T11:12:41.614Z"
   },
   {
    "duration": 7,
    "start_time": "2023-05-07T11:12:42.023Z"
   },
   {
    "duration": 4,
    "start_time": "2023-05-07T11:12:42.241Z"
   },
   {
    "duration": 194,
    "start_time": "2023-05-07T11:12:42.485Z"
   },
   {
    "duration": 194,
    "start_time": "2023-05-07T11:12:43.327Z"
   },
   {
    "duration": 340,
    "start_time": "2023-05-07T11:12:44.216Z"
   },
   {
    "duration": 193,
    "start_time": "2023-05-07T11:12:44.873Z"
   },
   {
    "duration": 330,
    "start_time": "2023-05-07T11:12:45.752Z"
   },
   {
    "duration": 153,
    "start_time": "2023-05-07T11:12:47.303Z"
   },
   {
    "duration": 5,
    "start_time": "2023-05-07T11:12:47.703Z"
   },
   {
    "duration": 197,
    "start_time": "2023-05-07T11:12:48.128Z"
   },
   {
    "duration": 7,
    "start_time": "2023-05-07T11:12:48.791Z"
   },
   {
    "duration": 231,
    "start_time": "2023-05-07T11:12:49.688Z"
   },
   {
    "duration": 33,
    "start_time": "2023-05-07T11:12:49.921Z"
   },
   {
    "duration": 148,
    "start_time": "2023-05-07T11:12:50.584Z"
   },
   {
    "duration": 13,
    "start_time": "2023-05-07T11:12:51.487Z"
   },
   {
    "duration": 10,
    "start_time": "2023-05-07T11:12:52.403Z"
   },
   {
    "duration": 29,
    "start_time": "2023-05-07T11:12:53.081Z"
   },
   {
    "duration": 17,
    "start_time": "2023-05-07T11:12:53.998Z"
   },
   {
    "duration": 59,
    "start_time": "2023-05-07T11:20:00.556Z"
   },
   {
    "duration": 42,
    "start_time": "2023-05-07T11:20:12.293Z"
   },
   {
    "duration": 2,
    "start_time": "2023-05-07T11:20:23.704Z"
   },
   {
    "duration": 1119,
    "start_time": "2023-05-07T11:28:02.275Z"
   },
   {
    "duration": 93,
    "start_time": "2023-05-07T11:28:03.706Z"
   },
   {
    "duration": 13,
    "start_time": "2023-05-07T11:28:03.914Z"
   },
   {
    "duration": 23,
    "start_time": "2023-05-07T11:28:04.791Z"
   },
   {
    "duration": 16,
    "start_time": "2023-05-07T11:28:05.702Z"
   },
   {
    "duration": 14,
    "start_time": "2023-05-07T11:28:06.621Z"
   },
   {
    "duration": 12,
    "start_time": "2023-05-07T11:28:08.291Z"
   },
   {
    "duration": 59,
    "start_time": "2023-05-07T11:28:10.488Z"
   },
   {
    "duration": 21,
    "start_time": "2023-05-07T11:28:11.340Z"
   },
   {
    "duration": 17,
    "start_time": "2023-05-07T11:28:12.083Z"
   },
   {
    "duration": 65,
    "start_time": "2023-05-07T11:28:12.339Z"
   },
   {
    "duration": 11,
    "start_time": "2023-05-07T11:28:12.798Z"
   },
   {
    "duration": 6,
    "start_time": "2023-05-07T11:28:13.436Z"
   },
   {
    "duration": 11,
    "start_time": "2023-05-07T11:28:13.698Z"
   },
   {
    "duration": 20,
    "start_time": "2023-05-07T11:28:15.347Z"
   },
   {
    "duration": 5,
    "start_time": "2023-05-07T11:28:16.431Z"
   },
   {
    "duration": 9,
    "start_time": "2023-05-07T11:28:17.100Z"
   },
   {
    "duration": 9,
    "start_time": "2023-05-07T11:28:17.314Z"
   },
   {
    "duration": 177,
    "start_time": "2023-05-07T11:28:18.001Z"
   },
   {
    "duration": 132,
    "start_time": "2023-05-07T11:28:18.407Z"
   },
   {
    "duration": 42,
    "start_time": "2023-05-07T11:28:18.641Z"
   },
   {
    "duration": 5,
    "start_time": "2023-05-07T11:28:19.193Z"
   },
   {
    "duration": 4,
    "start_time": "2023-05-07T11:28:19.595Z"
   },
   {
    "duration": 313,
    "start_time": "2023-05-07T11:28:19.815Z"
   },
   {
    "duration": 314,
    "start_time": "2023-05-07T11:28:21.176Z"
   },
   {
    "duration": 247,
    "start_time": "2023-05-07T11:28:22.784Z"
   },
   {
    "duration": 209,
    "start_time": "2023-05-07T11:28:23.919Z"
   },
   {
    "duration": 304,
    "start_time": "2023-05-07T11:28:25.062Z"
   },
   {
    "duration": 182,
    "start_time": "2023-05-07T11:28:53.434Z"
   },
   {
    "duration": 8,
    "start_time": "2023-05-07T11:28:56.171Z"
   },
   {
    "duration": 145,
    "start_time": "2023-05-07T11:28:56.876Z"
   },
   {
    "duration": 7,
    "start_time": "2023-05-07T11:28:58.394Z"
   },
   {
    "duration": 259,
    "start_time": "2023-05-07T11:28:59.708Z"
   },
   {
    "duration": 35,
    "start_time": "2023-05-07T11:28:59.968Z"
   },
   {
    "duration": 188,
    "start_time": "2023-05-07T11:29:00.984Z"
   },
   {
    "duration": 14,
    "start_time": "2023-05-07T11:29:02.478Z"
   },
   {
    "duration": 10,
    "start_time": "2023-05-07T11:29:03.734Z"
   },
   {
    "duration": 49,
    "start_time": "2023-05-07T11:29:04.547Z"
   },
   {
    "duration": 19,
    "start_time": "2023-05-07T11:29:05.775Z"
   },
   {
    "duration": 86,
    "start_time": "2023-05-07T11:30:12.432Z"
   }
  ],
  "kernelspec": {
   "display_name": "Python 3 (ipykernel)",
   "language": "python",
   "name": "python3"
  },
  "language_info": {
   "codemirror_mode": {
    "name": "ipython",
    "version": 3
   },
   "file_extension": ".py",
   "mimetype": "text/x-python",
   "name": "python",
   "nbconvert_exporter": "python",
   "pygments_lexer": "ipython3",
   "version": "3.9.5"
  },
  "toc": {
   "base_numbering": 1,
   "nav_menu": {},
   "number_sections": false,
   "sideBar": true,
   "skip_h1_title": false,
   "title_cell": "Table of Contents",
   "title_sidebar": "Contents",
   "toc_cell": false,
   "toc_position": {
    "height": "calc(100% - 180px)",
    "left": "10px",
    "top": "150px",
    "width": "235.27px"
   },
   "toc_section_display": true,
   "toc_window_display": false
  }
 },
 "nbformat": 4,
 "nbformat_minor": 2
}
